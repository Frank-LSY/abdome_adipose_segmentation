{
 "cells": [
  {
   "cell_type": "markdown",
   "id": "0d28535f",
   "metadata": {},
   "source": [
    "## 将3D的nrrd拆分成多个2d的图像并保存"
   ]
  },
  {
   "cell_type": "code",
   "execution_count": 1,
   "id": "d6b9184e",
   "metadata": {},
   "outputs": [],
   "source": [
    "import SimpleITK as sitk\n",
    "import matplotlib.pyplot as plt\n",
    "import os\n",
    "from PIL import Image\n",
    "import imageio"
   ]
  },
  {
   "cell_type": "code",
   "execution_count": 2,
   "id": "fc6d7f0a",
   "metadata": {},
   "outputs": [],
   "source": [
    "# 暂定只要 0.3 -- 0.75 范围内的图像\n",
    "def save_to_img(in_path, out_path, file_name, cmap):\n",
    "    print(file_name)\n",
    "    image = sitk.ReadImage(in_path+'/'+file_name)\n",
    "    size = image.GetSize()\n",
    "    if (size[1]!=512):\n",
    "        return\n",
    "    else:\n",
    "        print(size)\n",
    "        length = size[2]\n",
    "        array = sitk.GetArrayFromImage(image)\n",
    "        for i in range(int(round(length*0.3)),int(round(length*0.75))):\n",
    "            slice_index = i\n",
    "\n",
    "            # 获取指定层的切片\n",
    "            slice_image = array[slice_index, :, :]\n",
    "            imageio.imwrite(out_path+'/'+file_name.split('.')[0]+'-'+str(i)+'.png',slice_image)"
   ]
  },
  {
   "cell_type": "code",
   "execution_count": 3,
   "id": "2104393a",
   "metadata": {
    "scrolled": true
   },
   "outputs": [
    {
     "name": "stdout",
     "output_type": "stream",
     "text": [
      "crop\n",
      "13.nrrd\n",
      "(512, 512, 75)\n"
     ]
    },
    {
     "name": "stderr",
     "output_type": "stream",
     "text": [
      "Lossy conversion from float64 to uint8. Range [-10240.0, 1010.0]. Convert image to uint8 prior to saving to suppress this warning.\n",
      "Lossy conversion from float64 to uint8. Range [-10240.0, 1130.0]. Convert image to uint8 prior to saving to suppress this warning.\n",
      "Lossy conversion from float64 to uint8. Range [-10240.0, 1230.0]. Convert image to uint8 prior to saving to suppress this warning.\n",
      "Lossy conversion from float64 to uint8. Range [-10240.0, 1290.0]. Convert image to uint8 prior to saving to suppress this warning.\n",
      "Lossy conversion from float64 to uint8. Range [-10240.0, 1290.0]. Convert image to uint8 prior to saving to suppress this warning.\n",
      "Lossy conversion from float64 to uint8. Range [-10240.0, 1240.0]. Convert image to uint8 prior to saving to suppress this warning.\n",
      "Lossy conversion from float64 to uint8. Range [-10240.0, 1360.0]. Convert image to uint8 prior to saving to suppress this warning.\n",
      "Lossy conversion from float64 to uint8. Range [-10240.0, 1260.0]. Convert image to uint8 prior to saving to suppress this warning.\n",
      "Lossy conversion from float64 to uint8. Range [-10240.0, 1140.0]. Convert image to uint8 prior to saving to suppress this warning.\n",
      "Lossy conversion from float64 to uint8. Range [-10240.0, 1060.0]. Convert image to uint8 prior to saving to suppress this warning.\n",
      "Lossy conversion from float64 to uint8. Range [-10240.0, 1050.0]. Convert image to uint8 prior to saving to suppress this warning.\n",
      "Lossy conversion from float64 to uint8. Range [-10240.0, 1200.0]. Convert image to uint8 prior to saving to suppress this warning.\n",
      "Lossy conversion from float64 to uint8. Range [-10240.0, 1150.0]. Convert image to uint8 prior to saving to suppress this warning.\n",
      "Lossy conversion from float64 to uint8. Range [-10240.0, 1190.0]. Convert image to uint8 prior to saving to suppress this warning.\n",
      "Lossy conversion from float64 to uint8. Range [-10240.0, 1570.0]. Convert image to uint8 prior to saving to suppress this warning.\n",
      "Lossy conversion from float64 to uint8. Range [-10240.0, 1710.0]. Convert image to uint8 prior to saving to suppress this warning.\n",
      "Lossy conversion from float64 to uint8. Range [-10240.0, 1310.0]. Convert image to uint8 prior to saving to suppress this warning.\n",
      "Lossy conversion from float64 to uint8. Range [-10240.0, 1300.0]. Convert image to uint8 prior to saving to suppress this warning.\n",
      "Lossy conversion from float64 to uint8. Range [-10240.0, 1250.0]. Convert image to uint8 prior to saving to suppress this warning.\n",
      "Lossy conversion from float64 to uint8. Range [-10240.0, 1180.0]. Convert image to uint8 prior to saving to suppress this warning.\n",
      "Lossy conversion from float64 to uint8. Range [-10240.0, 1060.0]. Convert image to uint8 prior to saving to suppress this warning.\n",
      "Lossy conversion from float64 to uint8. Range [-10240.0, 990.0]. Convert image to uint8 prior to saving to suppress this warning.\n",
      "Lossy conversion from float64 to uint8. Range [-10240.0, 930.0]. Convert image to uint8 prior to saving to suppress this warning.\n",
      "Lossy conversion from float64 to uint8. Range [-10240.0, 1470.0]. Convert image to uint8 prior to saving to suppress this warning.\n",
      "Lossy conversion from float64 to uint8. Range [-10240.0, 1330.0]. Convert image to uint8 prior to saving to suppress this warning.\n",
      "Lossy conversion from float64 to uint8. Range [-10240.0, 1250.0]. Convert image to uint8 prior to saving to suppress this warning.\n",
      "Lossy conversion from float64 to uint8. Range [-10240.0, 1130.0]. Convert image to uint8 prior to saving to suppress this warning.\n",
      "Lossy conversion from float64 to uint8. Range [-10240.0, 1180.0]. Convert image to uint8 prior to saving to suppress this warning.\n",
      "Lossy conversion from float64 to uint8. Range [-10240.0, 1200.0]. Convert image to uint8 prior to saving to suppress this warning.\n",
      "Lossy conversion from float64 to uint8. Range [-10240.0, 1150.0]. Convert image to uint8 prior to saving to suppress this warning.\n",
      "Lossy conversion from float64 to uint8. Range [-10240.0, 1060.0]. Convert image to uint8 prior to saving to suppress this warning.\n",
      "Lossy conversion from float64 to uint8. Range [-10240.0, 1090.0]. Convert image to uint8 prior to saving to suppress this warning.\n",
      "Lossy conversion from float64 to uint8. Range [-10240.0, 1140.0]. Convert image to uint8 prior to saving to suppress this warning.\n",
      "Lossy conversion from float64 to uint8. Range [-10240.0, 1060.0]. Convert image to uint8 prior to saving to suppress this warning.\n",
      "Lossy conversion from float64 to uint8. Range [-1024.0, 1251.0]. Convert image to uint8 prior to saving to suppress this warning.\n"
     ]
    },
    {
     "name": "stdout",
     "output_type": "stream",
     "text": [
      "14.nrrd\n",
      "(512, 512, 32)\n"
     ]
    },
    {
     "name": "stderr",
     "output_type": "stream",
     "text": [
      "Lossy conversion from float64 to uint8. Range [-1024.0, 1297.0]. Convert image to uint8 prior to saving to suppress this warning.\n",
      "Lossy conversion from float64 to uint8. Range [-1024.0, 1206.0]. Convert image to uint8 prior to saving to suppress this warning.\n",
      "Lossy conversion from float64 to uint8. Range [-1024.0, 1175.0]. Convert image to uint8 prior to saving to suppress this warning.\n",
      "Lossy conversion from float64 to uint8. Range [-1024.0, 1255.0]. Convert image to uint8 prior to saving to suppress this warning.\n",
      "Lossy conversion from float64 to uint8. Range [-1024.0, 1308.0]. Convert image to uint8 prior to saving to suppress this warning.\n",
      "Lossy conversion from float64 to uint8. Range [-1024.0, 1279.0]. Convert image to uint8 prior to saving to suppress this warning.\n",
      "Lossy conversion from float64 to uint8. Range [-1024.0, 1193.0]. Convert image to uint8 prior to saving to suppress this warning.\n",
      "Lossy conversion from float64 to uint8. Range [-1024.0, 1288.0]. Convert image to uint8 prior to saving to suppress this warning.\n",
      "Lossy conversion from float64 to uint8. Range [-1024.0, 1081.0]. Convert image to uint8 prior to saving to suppress this warning.\n",
      "Lossy conversion from float64 to uint8. Range [-1024.0, 1084.0]. Convert image to uint8 prior to saving to suppress this warning.\n",
      "Lossy conversion from float64 to uint8. Range [-1024.0, 1102.0]. Convert image to uint8 prior to saving to suppress this warning.\n",
      "Lossy conversion from float64 to uint8. Range [-1024.0, 1272.0]. Convert image to uint8 prior to saving to suppress this warning.\n",
      "Lossy conversion from float64 to uint8. Range [-1024.0, 1277.0]. Convert image to uint8 prior to saving to suppress this warning.\n"
     ]
    },
    {
     "name": "stdout",
     "output_type": "stream",
     "text": [
      "15.nrrd\n"
     ]
    },
    {
     "name": "stderr",
     "output_type": "stream",
     "text": [
      "Lossy conversion from float64 to uint8. Range [-1024.0, 1086.4487871742188]. Convert image to uint8 prior to saving to suppress this warning.\n",
      "Lossy conversion from float64 to uint8. Range [-1024.0, 976.323687656346]. Convert image to uint8 prior to saving to suppress this warning.\n"
     ]
    },
    {
     "name": "stdout",
     "output_type": "stream",
     "text": [
      "(512, 512, 100)\n"
     ]
    },
    {
     "name": "stderr",
     "output_type": "stream",
     "text": [
      "Lossy conversion from float64 to uint8. Range [-1024.0, 903.2324945222351]. Convert image to uint8 prior to saving to suppress this warning.\n",
      "Lossy conversion from float64 to uint8. Range [-1024.0, 890.9904438347661]. Convert image to uint8 prior to saving to suppress this warning.\n",
      "Lossy conversion from float64 to uint8. Range [-1024.0, 837.8424827217538]. Convert image to uint8 prior to saving to suppress this warning.\n",
      "Lossy conversion from float64 to uint8. Range [-1024.0, 940.1451053615747]. Convert image to uint8 prior to saving to suppress this warning.\n",
      "Lossy conversion from float64 to uint8. Range [-1024.0, 1028.1168298403663]. Convert image to uint8 prior to saving to suppress this warning.\n",
      "Lossy conversion from float64 to uint8. Range [-1024.0, 1056.1370817086047]. Convert image to uint8 prior to saving to suppress this warning.\n",
      "Lossy conversion from float64 to uint8. Range [-1024.0, 1043.5041276037884]. Convert image to uint8 prior to saving to suppress this warning.\n",
      "Lossy conversion from float64 to uint8. Range [-1024.0, 997.248403376829]. Convert image to uint8 prior to saving to suppress this warning.\n",
      "Lossy conversion from float64 to uint8. Range [-1024.0, 1026.5694919906148]. Convert image to uint8 prior to saving to suppress this warning.\n",
      "Lossy conversion from float64 to uint8. Range [-1024.0, 1061.5020952341204]. Convert image to uint8 prior to saving to suppress this warning.\n",
      "Lossy conversion from float64 to uint8. Range [-1024.0, 993.1583509374154]. Convert image to uint8 prior to saving to suppress this warning.\n",
      "Lossy conversion from float64 to uint8. Range [-1024.0, 988.6000876210855]. Convert image to uint8 prior to saving to suppress this warning.\n",
      "Lossy conversion from float64 to uint8. Range [-1024.0, 958.0424087249379]. Convert image to uint8 prior to saving to suppress this warning.\n",
      "Lossy conversion from float64 to uint8. Range [-1024.0, 903.6451173537412]. Convert image to uint8 prior to saving to suppress this warning.\n",
      "Lossy conversion from float64 to uint8. Range [-1024.0, 899.134324643697]. Convert image to uint8 prior to saving to suppress this warning.\n",
      "Lossy conversion from float64 to uint8. Range [-1024.0, 937.9491440651534]. Convert image to uint8 prior to saving to suppress this warning.\n",
      "Lossy conversion from float64 to uint8. Range [-1024.0, 1045.6529317932686]. Convert image to uint8 prior to saving to suppress this warning.\n",
      "Lossy conversion from float64 to uint8. Range [-1024.0, 1119.2856166638348]. Convert image to uint8 prior to saving to suppress this warning.\n",
      "Lossy conversion from float64 to uint8. Range [-1024.0, 1100.585616036877]. Convert image to uint8 prior to saving to suppress this warning.\n",
      "Lossy conversion from float64 to uint8. Range [-1024.0, 1039.798525052421]. Convert image to uint8 prior to saving to suppress this warning.\n",
      "Lossy conversion from float64 to uint8. Range [-1024.0, 1015.8676390597699]. Convert image to uint8 prior to saving to suppress this warning.\n",
      "Lossy conversion from float64 to uint8. Range [-1024.0, 1052.128302950433]. Convert image to uint8 prior to saving to suppress this warning.\n",
      "Lossy conversion from float64 to uint8. Range [-1024.0, 1045.0158542345782]. Convert image to uint8 prior to saving to suppress this warning.\n",
      "Lossy conversion from float64 to uint8. Range [-1024.0, 981.7241694357576]. Convert image to uint8 prior to saving to suppress this warning.\n",
      "Lossy conversion from float64 to uint8. Range [-1024.0, 952.5690738265794]. Convert image to uint8 prior to saving to suppress this warning.\n",
      "Lossy conversion from float64 to uint8. Range [-1024.0, 967.5669556049783]. Convert image to uint8 prior to saving to suppress this warning.\n",
      "Lossy conversion from float64 to uint8. Range [-1024.0, 956.3376678399301]. Convert image to uint8 prior to saving to suppress this warning.\n",
      "Lossy conversion from float64 to uint8. Range [-1024.0, 981.7305473166055]. Convert image to uint8 prior to saving to suppress this warning.\n",
      "Lossy conversion from float64 to uint8. Range [-1024.0, 1009.3062009578557]. Convert image to uint8 prior to saving to suppress this warning.\n",
      "Lossy conversion from float64 to uint8. Range [-1024.0, 1096.236138596573]. Convert image to uint8 prior to saving to suppress this warning.\n",
      "Lossy conversion from float64 to uint8. Range [-1024.0, 1071.079663983618]. Convert image to uint8 prior to saving to suppress this warning.\n",
      "Lossy conversion from float64 to uint8. Range [-1024.0, 991.6368416151041]. Convert image to uint8 prior to saving to suppress this warning.\n",
      "Lossy conversion from float64 to uint8. Range [-1024.0, 986.6714355154667]. Convert image to uint8 prior to saving to suppress this warning.\n",
      "Lossy conversion from float64 to uint8. Range [-1024.0, 1021.6217174334683]. Convert image to uint8 prior to saving to suppress this warning.\n",
      "Lossy conversion from float64 to uint8. Range [-1024.0, 1018.8619935829515]. Convert image to uint8 prior to saving to suppress this warning.\n",
      "Lossy conversion from float64 to uint8. Range [-1024.0, 999.2890582596538]. Convert image to uint8 prior to saving to suppress this warning.\n",
      "Lossy conversion from float64 to uint8. Range [-1024.0, 979.3299673642449]. Convert image to uint8 prior to saving to suppress this warning.\n",
      "Lossy conversion from float64 to uint8. Range [-1024.0, 980.2249599548009]. Convert image to uint8 prior to saving to suppress this warning.\n",
      "Lossy conversion from float64 to uint8. Range [-1024.0, 999.4541706647349]. Convert image to uint8 prior to saving to suppress this warning.\n",
      "Lossy conversion from float64 to uint8. Range [-1024.0, 962.5921238450342]. Convert image to uint8 prior to saving to suppress this warning.\n",
      "Lossy conversion from float64 to uint8. Range [-1024.0, 967.9326058072187]. Convert image to uint8 prior to saving to suppress this warning.\n",
      "Lossy conversion from float64 to uint8. Range [-1024.0, 1021.5560801409416]. Convert image to uint8 prior to saving to suppress this warning.\n",
      "Lossy conversion from float64 to uint8. Range [-1024.0, 882.2941763552107]. Convert image to uint8 prior to saving to suppress this warning.\n"
     ]
    },
    {
     "name": "stdout",
     "output_type": "stream",
     "text": [
      "16.nrrd\n"
     ]
    },
    {
     "name": "stderr",
     "output_type": "stream",
     "text": [
      "Lossy conversion from float64 to uint8. Range [-1024.0, 1198.3099515346353]. Convert image to uint8 prior to saving to suppress this warning.\n"
     ]
    },
    {
     "name": "stdout",
     "output_type": "stream",
     "text": [
      "(512, 512, 60)\n"
     ]
    },
    {
     "name": "stderr",
     "output_type": "stream",
     "text": [
      "Lossy conversion from float64 to uint8. Range [-1024.0, 1205.1395087581811]. Convert image to uint8 prior to saving to suppress this warning.\n",
      "Lossy conversion from float64 to uint8. Range [-1024.0, 1283.011887053016]. Convert image to uint8 prior to saving to suppress this warning.\n",
      "Lossy conversion from float64 to uint8. Range [-1024.0, 1219.727905725292]. Convert image to uint8 prior to saving to suppress this warning.\n",
      "Lossy conversion from float64 to uint8. Range [-1024.0, 1239.9240917926109]. Convert image to uint8 prior to saving to suppress this warning.\n",
      "Lossy conversion from float64 to uint8. Range [-1024.0, 1285.3579061322962]. Convert image to uint8 prior to saving to suppress this warning.\n",
      "Lossy conversion from float64 to uint8. Range [-1024.0, 1225.9512199371377]. Convert image to uint8 prior to saving to suppress this warning.\n",
      "Lossy conversion from float64 to uint8. Range [-1024.0, 1269.2061061797358]. Convert image to uint8 prior to saving to suppress this warning.\n",
      "Lossy conversion from float64 to uint8. Range [-1024.0, 1309.4551618372832]. Convert image to uint8 prior to saving to suppress this warning.\n",
      "Lossy conversion from float64 to uint8. Range [-1024.0, 1300.6623995560744]. Convert image to uint8 prior to saving to suppress this warning.\n",
      "Lossy conversion from float64 to uint8. Range [-1024.0, 1263.5094056958637]. Convert image to uint8 prior to saving to suppress this warning.\n",
      "Lossy conversion from float64 to uint8. Range [-1024.0, 1342.6582268423056]. Convert image to uint8 prior to saving to suppress this warning.\n",
      "Lossy conversion from float64 to uint8. Range [-1024.0, 1288.704666869028]. Convert image to uint8 prior to saving to suppress this warning.\n",
      "Lossy conversion from float64 to uint8. Range [-1024.0, 1235.885426626924]. Convert image to uint8 prior to saving to suppress this warning.\n",
      "Lossy conversion from float64 to uint8. Range [-1024.0, 2336.5507367643077]. Convert image to uint8 prior to saving to suppress this warning.\n",
      "Lossy conversion from float64 to uint8. Range [-1024.0, 1288.5893236293177]. Convert image to uint8 prior to saving to suppress this warning.\n",
      "Lossy conversion from float64 to uint8. Range [-1024.0, 1295.7102804752644]. Convert image to uint8 prior to saving to suppress this warning.\n",
      "Lossy conversion from float64 to uint8. Range [-1024.0, 1324.8907179666228]. Convert image to uint8 prior to saving to suppress this warning.\n",
      "Lossy conversion from float64 to uint8. Range [-1024.0, 1378.5226325051951]. Convert image to uint8 prior to saving to suppress this warning.\n",
      "Lossy conversion from float64 to uint8. Range [-1024.0, 1315.9490962838406]. Convert image to uint8 prior to saving to suppress this warning.\n",
      "Lossy conversion from float64 to uint8. Range [-1024.0, 1281.852328499789]. Convert image to uint8 prior to saving to suppress this warning.\n",
      "Lossy conversion from float64 to uint8. Range [-1024.0, 1160.7880602065684]. Convert image to uint8 prior to saving to suppress this warning.\n",
      "Lossy conversion from float64 to uint8. Range [-1024.0, 1283.0987188296513]. Convert image to uint8 prior to saving to suppress this warning.\n",
      "Lossy conversion from float64 to uint8. Range [-1024.0, 1241.0473107792377]. Convert image to uint8 prior to saving to suppress this warning.\n",
      "Lossy conversion from float64 to uint8. Range [-1024.0, 1144.8061492524048]. Convert image to uint8 prior to saving to suppress this warning.\n",
      "Lossy conversion from float64 to uint8. Range [-1024.0, 1186.6630069220698]. Convert image to uint8 prior to saving to suppress this warning.\n",
      "Lossy conversion from float64 to uint8. Range [-1024.0, 1299.848111807733]. Convert image to uint8 prior to saving to suppress this warning.\n"
     ]
    },
    {
     "name": "stdout",
     "output_type": "stream",
     "text": [
      "2.nrrd\n",
      "(512, 512, 64)\n"
     ]
    },
    {
     "name": "stderr",
     "output_type": "stream",
     "text": [
      "Lossy conversion from float64 to uint8. Range [-1024.0, 1209.0]. Convert image to uint8 prior to saving to suppress this warning.\n",
      "Lossy conversion from float64 to uint8. Range [-1024.0, 1268.0]. Convert image to uint8 prior to saving to suppress this warning.\n",
      "Lossy conversion from float64 to uint8. Range [-1024.0, 1207.0]. Convert image to uint8 prior to saving to suppress this warning.\n",
      "Lossy conversion from float64 to uint8. Range [-1024.0, 1249.0]. Convert image to uint8 prior to saving to suppress this warning.\n",
      "Lossy conversion from float64 to uint8. Range [-1024.0, 1264.0]. Convert image to uint8 prior to saving to suppress this warning.\n",
      "Lossy conversion from float64 to uint8. Range [-1024.0, 1112.0]. Convert image to uint8 prior to saving to suppress this warning.\n",
      "Lossy conversion from float64 to uint8. Range [-1024.0, 1133.0]. Convert image to uint8 prior to saving to suppress this warning.\n",
      "Lossy conversion from float64 to uint8. Range [-1024.0, 1120.0]. Convert image to uint8 prior to saving to suppress this warning.\n",
      "Lossy conversion from float64 to uint8. Range [-1024.0, 1105.0]. Convert image to uint8 prior to saving to suppress this warning.\n",
      "Lossy conversion from float64 to uint8. Range [-1024.0, 1232.0]. Convert image to uint8 prior to saving to suppress this warning.\n",
      "Lossy conversion from float64 to uint8. Range [-1024.0, 1180.0]. Convert image to uint8 prior to saving to suppress this warning.\n",
      "Lossy conversion from float64 to uint8. Range [-1024.0, 1200.0]. Convert image to uint8 prior to saving to suppress this warning.\n",
      "Lossy conversion from float64 to uint8. Range [-1024.0, 1205.0]. Convert image to uint8 prior to saving to suppress this warning.\n",
      "Lossy conversion from float64 to uint8. Range [-1024.0, 1199.0]. Convert image to uint8 prior to saving to suppress this warning.\n",
      "Lossy conversion from float64 to uint8. Range [-1024.0, 1251.0]. Convert image to uint8 prior to saving to suppress this warning.\n",
      "Lossy conversion from float64 to uint8. Range [-1024.0, 1164.0]. Convert image to uint8 prior to saving to suppress this warning.\n",
      "Lossy conversion from float64 to uint8. Range [-1024.0, 1516.0]. Convert image to uint8 prior to saving to suppress this warning.\n",
      "Lossy conversion from float64 to uint8. Range [-1024.0, 1088.0]. Convert image to uint8 prior to saving to suppress this warning.\n",
      "Lossy conversion from float64 to uint8. Range [-1024.0, 1254.0]. Convert image to uint8 prior to saving to suppress this warning.\n",
      "Lossy conversion from float64 to uint8. Range [-1024.0, 1167.0]. Convert image to uint8 prior to saving to suppress this warning.\n",
      "Lossy conversion from float64 to uint8. Range [-1024.0, 1116.0]. Convert image to uint8 prior to saving to suppress this warning.\n",
      "Lossy conversion from float64 to uint8. Range [-1024.0, 1183.0]. Convert image to uint8 prior to saving to suppress this warning.\n",
      "Lossy conversion from float64 to uint8. Range [-1024.0, 1183.0]. Convert image to uint8 prior to saving to suppress this warning.\n",
      "Lossy conversion from float64 to uint8. Range [-1024.0, 1198.0]. Convert image to uint8 prior to saving to suppress this warning.\n",
      "Lossy conversion from float64 to uint8. Range [-1024.0, 1104.0]. Convert image to uint8 prior to saving to suppress this warning.\n",
      "Lossy conversion from float64 to uint8. Range [-1024.0, 1087.0]. Convert image to uint8 prior to saving to suppress this warning.\n",
      "Lossy conversion from float64 to uint8. Range [-1024.0, 1126.0]. Convert image to uint8 prior to saving to suppress this warning.\n",
      "Lossy conversion from float64 to uint8. Range [-1024.0, 1139.0]. Convert image to uint8 prior to saving to suppress this warning.\n",
      "Lossy conversion from float64 to uint8. Range [-1024.0, 2125.0]. Convert image to uint8 prior to saving to suppress this warning.\n"
     ]
    },
    {
     "name": "stdout",
     "output_type": "stream",
     "text": [
      "20.nrrd\n"
     ]
    },
    {
     "name": "stderr",
     "output_type": "stream",
     "text": [
      "Lossy conversion from float64 to uint8. Range [-1024.0, 1107.0]. Convert image to uint8 prior to saving to suppress this warning.\n",
      "Lossy conversion from float64 to uint8. Range [-1024.0, 1055.0]. Convert image to uint8 prior to saving to suppress this warning.\n"
     ]
    },
    {
     "name": "stdout",
     "output_type": "stream",
     "text": [
      "(512, 512, 68)\n"
     ]
    },
    {
     "name": "stderr",
     "output_type": "stream",
     "text": [
      "Lossy conversion from float64 to uint8. Range [-1024.0, 1049.0]. Convert image to uint8 prior to saving to suppress this warning.\n",
      "Lossy conversion from float64 to uint8. Range [-1024.0, 985.0]. Convert image to uint8 prior to saving to suppress this warning.\n",
      "Lossy conversion from float64 to uint8. Range [-1024.0, 984.0]. Convert image to uint8 prior to saving to suppress this warning.\n",
      "Lossy conversion from float64 to uint8. Range [-1024.0, 1065.0]. Convert image to uint8 prior to saving to suppress this warning.\n",
      "Lossy conversion from float64 to uint8. Range [-1024.0, 1149.0]. Convert image to uint8 prior to saving to suppress this warning.\n",
      "Lossy conversion from float64 to uint8. Range [-1024.0, 1129.0]. Convert image to uint8 prior to saving to suppress this warning.\n",
      "Lossy conversion from float64 to uint8. Range [-1024.0, 1102.0]. Convert image to uint8 prior to saving to suppress this warning.\n",
      "Lossy conversion from float64 to uint8. Range [-1024.0, 1025.0]. Convert image to uint8 prior to saving to suppress this warning.\n",
      "Lossy conversion from float64 to uint8. Range [-1024.0, 985.0]. Convert image to uint8 prior to saving to suppress this warning.\n",
      "Lossy conversion from float64 to uint8. Range [-1024.0, 975.0]. Convert image to uint8 prior to saving to suppress this warning.\n",
      "Lossy conversion from float64 to uint8. Range [-1024.0, 1036.0]. Convert image to uint8 prior to saving to suppress this warning.\n",
      "Lossy conversion from float64 to uint8. Range [-1024.0, 1005.0]. Convert image to uint8 prior to saving to suppress this warning.\n",
      "Lossy conversion from float64 to uint8. Range [-1024.0, 952.0]. Convert image to uint8 prior to saving to suppress this warning.\n",
      "Lossy conversion from float64 to uint8. Range [-1024.0, 907.0]. Convert image to uint8 prior to saving to suppress this warning.\n",
      "Lossy conversion from float64 to uint8. Range [-1024.0, 898.0]. Convert image to uint8 prior to saving to suppress this warning.\n",
      "Lossy conversion from float64 to uint8. Range [-1024.0, 887.0]. Convert image to uint8 prior to saving to suppress this warning.\n",
      "Lossy conversion from float64 to uint8. Range [-1024.0, 952.0]. Convert image to uint8 prior to saving to suppress this warning.\n",
      "Lossy conversion from float64 to uint8. Range [-1024.0, 1023.0]. Convert image to uint8 prior to saving to suppress this warning.\n",
      "Lossy conversion from float64 to uint8. Range [-1024.0, 1078.0]. Convert image to uint8 prior to saving to suppress this warning.\n",
      "Lossy conversion from float64 to uint8. Range [-1024.0, 891.0]. Convert image to uint8 prior to saving to suppress this warning.\n",
      "Lossy conversion from float64 to uint8. Range [-1024.0, 902.0]. Convert image to uint8 prior to saving to suppress this warning.\n",
      "Lossy conversion from float64 to uint8. Range [-1024.0, 963.0]. Convert image to uint8 prior to saving to suppress this warning.\n",
      "Lossy conversion from float64 to uint8. Range [-1024.0, 1019.0]. Convert image to uint8 prior to saving to suppress this warning.\n",
      "Lossy conversion from float64 to uint8. Range [-1024.0, 1022.0]. Convert image to uint8 prior to saving to suppress this warning.\n",
      "Lossy conversion from float64 to uint8. Range [-1024.0, 883.0]. Convert image to uint8 prior to saving to suppress this warning.\n",
      "Lossy conversion from float64 to uint8. Range [-1024.0, 990.0]. Convert image to uint8 prior to saving to suppress this warning.\n",
      "Lossy conversion from float64 to uint8. Range [-1024.0, 1041.0]. Convert image to uint8 prior to saving to suppress this warning.\n",
      "Lossy conversion from float64 to uint8. Range [-1024.0, 988.0]. Convert image to uint8 prior to saving to suppress this warning.\n",
      "Lossy conversion from float64 to uint8. Range [-1024.0, 880.0]. Convert image to uint8 prior to saving to suppress this warning.\n"
     ]
    },
    {
     "name": "stdout",
     "output_type": "stream",
     "text": [
      "4.nrrd\n"
     ]
    },
    {
     "name": "stderr",
     "output_type": "stream",
     "text": [
      "Lossy conversion from float64 to uint8. Range [-1024.0, 1292.7885397352347]. Convert image to uint8 prior to saving to suppress this warning.\n"
     ]
    },
    {
     "name": "stdout",
     "output_type": "stream",
     "text": [
      "(512, 512, 96)\n"
     ]
    },
    {
     "name": "stderr",
     "output_type": "stream",
     "text": [
      "Lossy conversion from float64 to uint8. Range [-1024.0, 1208.770800778996]. Convert image to uint8 prior to saving to suppress this warning.\n",
      "Lossy conversion from float64 to uint8. Range [-1024.0, 1152.1660720592733]. Convert image to uint8 prior to saving to suppress this warning.\n",
      "Lossy conversion from float64 to uint8. Range [-1024.0, 1287.016679167198]. Convert image to uint8 prior to saving to suppress this warning.\n",
      "Lossy conversion from float64 to uint8. Range [-1024.0, 1565.6032484781476]. Convert image to uint8 prior to saving to suppress this warning.\n",
      "Lossy conversion from float64 to uint8. Range [-1024.0, 1722.3422948208986]. Convert image to uint8 prior to saving to suppress this warning.\n",
      "Lossy conversion from float64 to uint8. Range [-1024.0, 1605.1855724218658]. Convert image to uint8 prior to saving to suppress this warning.\n",
      "Lossy conversion from float64 to uint8. Range [-1024.0, 1333.6082362562306]. Convert image to uint8 prior to saving to suppress this warning.\n",
      "Lossy conversion from float64 to uint8. Range [-1024.0, 1331.944263939234]. Convert image to uint8 prior to saving to suppress this warning.\n",
      "Lossy conversion from float64 to uint8. Range [-1024.0, 1337.21070753035]. Convert image to uint8 prior to saving to suppress this warning.\n",
      "Lossy conversion from float64 to uint8. Range [-1024.0, 1298.7348499547682]. Convert image to uint8 prior to saving to suppress this warning.\n",
      "Lossy conversion from float64 to uint8. Range [-1024.0, 1306.5538400171379]. Convert image to uint8 prior to saving to suppress this warning.\n",
      "Lossy conversion from float64 to uint8. Range [-1024.0, 1202.0551033165073]. Convert image to uint8 prior to saving to suppress this warning.\n",
      "Lossy conversion from float64 to uint8. Range [-1024.0, 1191.8105454886227]. Convert image to uint8 prior to saving to suppress this warning.\n",
      "Lossy conversion from float64 to uint8. Range [-1024.0, 1212.6693167833719]. Convert image to uint8 prior to saving to suppress this warning.\n",
      "Lossy conversion from float64 to uint8. Range [-1024.0, 1333.0971393951422]. Convert image to uint8 prior to saving to suppress this warning.\n",
      "Lossy conversion from float64 to uint8. Range [-1024.0, 1253.2981886702764]. Convert image to uint8 prior to saving to suppress this warning.\n",
      "Lossy conversion from float64 to uint8. Range [-1024.0, 1247.6086649111382]. Convert image to uint8 prior to saving to suppress this warning.\n",
      "Lossy conversion from float64 to uint8. Range [-1024.0, 1390.082079552485]. Convert image to uint8 prior to saving to suppress this warning.\n",
      "Lossy conversion from float64 to uint8. Range [-1024.0, 1398.5110121713174]. Convert image to uint8 prior to saving to suppress this warning.\n",
      "Lossy conversion from float64 to uint8. Range [-1024.0, 1471.2324444120154]. Convert image to uint8 prior to saving to suppress this warning.\n",
      "Lossy conversion from float64 to uint8. Range [-1024.0, 1394.7123690699075]. Convert image to uint8 prior to saving to suppress this warning.\n",
      "Lossy conversion from float64 to uint8. Range [-1024.0, 1284.1392925029572]. Convert image to uint8 prior to saving to suppress this warning.\n",
      "Lossy conversion from float64 to uint8. Range [-1024.0, 1153.7734574521469]. Convert image to uint8 prior to saving to suppress this warning.\n",
      "Lossy conversion from float64 to uint8. Range [-1024.0, 1183.8189637017847]. Convert image to uint8 prior to saving to suppress this warning.\n",
      "Lossy conversion from float64 to uint8. Range [-1024.0, 1130.6134063492802]. Convert image to uint8 prior to saving to suppress this warning.\n",
      "Lossy conversion from float64 to uint8. Range [-1024.0, 1113.3327196421387]. Convert image to uint8 prior to saving to suppress this warning.\n",
      "Lossy conversion from float64 to uint8. Range [-1024.0, 1253.07758602829]. Convert image to uint8 prior to saving to suppress this warning.\n",
      "Lossy conversion from float64 to uint8. Range [-1024.0, 1330.666626566987]. Convert image to uint8 prior to saving to suppress this warning.\n",
      "Lossy conversion from float64 to uint8. Range [-1024.0, 1309.9552480754476]. Convert image to uint8 prior to saving to suppress this warning.\n",
      "Lossy conversion from float64 to uint8. Range [-1024.0, 1208.7126151901552]. Convert image to uint8 prior to saving to suppress this warning.\n",
      "Lossy conversion from float64 to uint8. Range [-1024.0, 1207.9244130287411]. Convert image to uint8 prior to saving to suppress this warning.\n",
      "Lossy conversion from float64 to uint8. Range [-1024.0, 1079.2663796077504]. Convert image to uint8 prior to saving to suppress this warning.\n",
      "Lossy conversion from float64 to uint8. Range [-1024.0, 1118.9372311371333]. Convert image to uint8 prior to saving to suppress this warning.\n",
      "Lossy conversion from float64 to uint8. Range [-1024.0, 899.5164533889556]. Convert image to uint8 prior to saving to suppress this warning.\n",
      "Lossy conversion from float64 to uint8. Range [-1024.0, 920.6557927728695]. Convert image to uint8 prior to saving to suppress this warning.\n",
      "Lossy conversion from float64 to uint8. Range [-1024.0, 950.4619998325468]. Convert image to uint8 prior to saving to suppress this warning.\n",
      "Lossy conversion from float64 to uint8. Range [-1024.0, 1034.5906558505262]. Convert image to uint8 prior to saving to suppress this warning.\n",
      "Lossy conversion from float64 to uint8. Range [-1024.0, 1093.6590698195705]. Convert image to uint8 prior to saving to suppress this warning.\n",
      "Lossy conversion from float64 to uint8. Range [-1024.0, 1157.8244356406572]. Convert image to uint8 prior to saving to suppress this warning.\n",
      "Lossy conversion from float64 to uint8. Range [-1024.0, 1231.3723850969536]. Convert image to uint8 prior to saving to suppress this warning.\n",
      "Lossy conversion from float64 to uint8. Range [-1024.0, 1333.5204356178292]. Convert image to uint8 prior to saving to suppress this warning.\n",
      "Lossy conversion from float64 to uint8. Range [-1024.0, 1209.48370668443]. Convert image to uint8 prior to saving to suppress this warning.\n"
     ]
    },
    {
     "name": "stdout",
     "output_type": "stream",
     "text": [
      "5.nrrd\n"
     ]
    },
    {
     "name": "stderr",
     "output_type": "stream",
     "text": [
      "Lossy conversion from float64 to uint8. Range [-1024.0, 982.0]. Convert image to uint8 prior to saving to suppress this warning.\n",
      "Lossy conversion from float64 to uint8. Range [-1024.0, 1044.0]. Convert image to uint8 prior to saving to suppress this warning.\n",
      "Lossy conversion from float64 to uint8. Range [-1024.0, 1008.0]. Convert image to uint8 prior to saving to suppress this warning.\n",
      "Lossy conversion from float64 to uint8. Range [-1024.0, 906.0]. Convert image to uint8 prior to saving to suppress this warning.\n",
      "Lossy conversion from float64 to uint8. Range [-1024.0, 865.0]. Convert image to uint8 prior to saving to suppress this warning.\n"
     ]
    },
    {
     "name": "stdout",
     "output_type": "stream",
     "text": [
      "(512, 512, 61)\n"
     ]
    },
    {
     "name": "stderr",
     "output_type": "stream",
     "text": [
      "Lossy conversion from float64 to uint8. Range [-1024.0, 962.0]. Convert image to uint8 prior to saving to suppress this warning.\n",
      "Lossy conversion from float64 to uint8. Range [-1024.0, 908.0]. Convert image to uint8 prior to saving to suppress this warning.\n",
      "Lossy conversion from float64 to uint8. Range [-1024.0, 966.0]. Convert image to uint8 prior to saving to suppress this warning.\n",
      "Lossy conversion from float64 to uint8. Range [-1024.0, 1003.0]. Convert image to uint8 prior to saving to suppress this warning.\n",
      "Lossy conversion from float64 to uint8. Range [-1024.0, 969.0]. Convert image to uint8 prior to saving to suppress this warning.\n",
      "Lossy conversion from float64 to uint8. Range [-1024.0, 951.0]. Convert image to uint8 prior to saving to suppress this warning.\n",
      "Lossy conversion from float64 to uint8. Range [-1024.0, 992.0]. Convert image to uint8 prior to saving to suppress this warning.\n",
      "Lossy conversion from float64 to uint8. Range [-1024.0, 1015.0]. Convert image to uint8 prior to saving to suppress this warning.\n",
      "Lossy conversion from float64 to uint8. Range [-1024.0, 943.0]. Convert image to uint8 prior to saving to suppress this warning.\n",
      "Lossy conversion from float64 to uint8. Range [-1024.0, 862.0]. Convert image to uint8 prior to saving to suppress this warning.\n",
      "Lossy conversion from float64 to uint8. Range [-1024.0, 848.0]. Convert image to uint8 prior to saving to suppress this warning.\n",
      "Lossy conversion from float64 to uint8. Range [-1024.0, 950.0]. Convert image to uint8 prior to saving to suppress this warning.\n",
      "Lossy conversion from float64 to uint8. Range [-1024.0, 945.0]. Convert image to uint8 prior to saving to suppress this warning.\n",
      "Lossy conversion from float64 to uint8. Range [-1024.0, 876.0]. Convert image to uint8 prior to saving to suppress this warning.\n",
      "Lossy conversion from float64 to uint8. Range [-1024.0, 933.0]. Convert image to uint8 prior to saving to suppress this warning.\n",
      "Lossy conversion from float64 to uint8. Range [-1024.0, 1012.0]. Convert image to uint8 prior to saving to suppress this warning.\n",
      "Lossy conversion from float64 to uint8. Range [-1024.0, 971.0]. Convert image to uint8 prior to saving to suppress this warning.\n",
      "Lossy conversion from float64 to uint8. Range [-1024.0, 950.0]. Convert image to uint8 prior to saving to suppress this warning.\n",
      "Lossy conversion from float64 to uint8. Range [-1024.0, 1011.0]. Convert image to uint8 prior to saving to suppress this warning.\n",
      "Lossy conversion from float64 to uint8. Range [-1024.0, 1024.0]. Convert image to uint8 prior to saving to suppress this warning.\n",
      "Lossy conversion from float64 to uint8. Range [-1024.0, 935.0]. Convert image to uint8 prior to saving to suppress this warning.\n",
      "Lossy conversion from float64 to uint8. Range [-1024.0, 903.0]. Convert image to uint8 prior to saving to suppress this warning.\n",
      "Lossy conversion from float64 to uint8. Range [-1024.0, 945.0]. Convert image to uint8 prior to saving to suppress this warning.\n"
     ]
    },
    {
     "name": "stdout",
     "output_type": "stream",
     "text": [
      "51.nrrd\n",
      "53.nrrd\n"
     ]
    },
    {
     "name": "stderr",
     "output_type": "stream",
     "text": [
      "Lossy conversion from float64 to uint8. Range [-1024.0, 1124.9729852880187]. Convert image to uint8 prior to saving to suppress this warning.\n",
      "Lossy conversion from float64 to uint8. Range [-1024.0, 1060.6986208307526]. Convert image to uint8 prior to saving to suppress this warning.\n"
     ]
    },
    {
     "name": "stdout",
     "output_type": "stream",
     "text": [
      "(512, 512, 53)\n"
     ]
    },
    {
     "name": "stderr",
     "output_type": "stream",
     "text": [
      "Lossy conversion from float64 to uint8. Range [-1024.0, 980.7117129447556]. Convert image to uint8 prior to saving to suppress this warning.\n",
      "Lossy conversion from float64 to uint8. Range [-1024.0, 918.8622457443045]. Convert image to uint8 prior to saving to suppress this warning.\n",
      "Lossy conversion from float64 to uint8. Range [-1024.0, 931.4188751767601]. Convert image to uint8 prior to saving to suppress this warning.\n",
      "Lossy conversion from float64 to uint8. Range [-1024.0, 1074.2374201868424]. Convert image to uint8 prior to saving to suppress this warning.\n",
      "Lossy conversion from float64 to uint8. Range [-1024.0, 1200.2909787171845]. Convert image to uint8 prior to saving to suppress this warning.\n",
      "Lossy conversion from float64 to uint8. Range [-1024.0, 1159.7054457478591]. Convert image to uint8 prior to saving to suppress this warning.\n",
      "Lossy conversion from float64 to uint8. Range [-1024.0, 1093.9874165861547]. Convert image to uint8 prior to saving to suppress this warning.\n",
      "Lossy conversion from float64 to uint8. Range [-1024.0, 1087.576099661222]. Convert image to uint8 prior to saving to suppress this warning.\n",
      "Lossy conversion from float64 to uint8. Range [-1024.0, 1055.904979615366]. Convert image to uint8 prior to saving to suppress this warning.\n",
      "Lossy conversion from float64 to uint8. Range [-1024.0, 908.9565896399494]. Convert image to uint8 prior to saving to suppress this warning.\n",
      "Lossy conversion from float64 to uint8. Range [-1024.0, 1014.5310274641218]. Convert image to uint8 prior to saving to suppress this warning.\n",
      "Lossy conversion from float64 to uint8. Range [-1024.0, 1118.2545419740054]. Convert image to uint8 prior to saving to suppress this warning.\n",
      "Lossy conversion from float64 to uint8. Range [-1024.0, 964.0572260589114]. Convert image to uint8 prior to saving to suppress this warning.\n",
      "Lossy conversion from float64 to uint8. Range [-1024.0, 1014.7383527674225]. Convert image to uint8 prior to saving to suppress this warning.\n",
      "Lossy conversion from float64 to uint8. Range [-1024.0, 1036.25313618682]. Convert image to uint8 prior to saving to suppress this warning.\n",
      "Lossy conversion from float64 to uint8. Range [-1024.0, 970.795881627134]. Convert image to uint8 prior to saving to suppress this warning.\n",
      "Lossy conversion from float64 to uint8. Range [-1024.0, 984.6374588803997]. Convert image to uint8 prior to saving to suppress this warning.\n",
      "Lossy conversion from float64 to uint8. Range [-1024.0, 1048.2486641172711]. Convert image to uint8 prior to saving to suppress this warning.\n",
      "Lossy conversion from float64 to uint8. Range [-1024.0, 908.98562829407]. Convert image to uint8 prior to saving to suppress this warning.\n",
      "Lossy conversion from float64 to uint8. Range [-1024.0, 930.6942646773384]. Convert image to uint8 prior to saving to suppress this warning.\n",
      "Lossy conversion from float64 to uint8. Range [-1024.0, 890.6509452647728]. Convert image to uint8 prior to saving to suppress this warning.\n",
      "Lossy conversion from float64 to uint8. Range [-1024.0, 913.1071997949732]. Convert image to uint8 prior to saving to suppress this warning.\n"
     ]
    },
    {
     "name": "stdout",
     "output_type": "stream",
     "text": [
      "57.nrrd\n"
     ]
    },
    {
     "name": "stderr",
     "output_type": "stream",
     "text": [
      "Lossy conversion from float64 to uint8. Range [-1024.0, 1427.1312452822701]. Convert image to uint8 prior to saving to suppress this warning.\n"
     ]
    },
    {
     "name": "stdout",
     "output_type": "stream",
     "text": [
      "(512, 512, 100)\n"
     ]
    },
    {
     "name": "stderr",
     "output_type": "stream",
     "text": [
      "Lossy conversion from float64 to uint8. Range [-1024.0, 1417.064385524122]. Convert image to uint8 prior to saving to suppress this warning.\n",
      "Lossy conversion from float64 to uint8. Range [-1024.0, 1315.0675943663202]. Convert image to uint8 prior to saving to suppress this warning.\n",
      "Lossy conversion from float64 to uint8. Range [-1024.0, 1259.1692726045803]. Convert image to uint8 prior to saving to suppress this warning.\n",
      "Lossy conversion from float64 to uint8. Range [-1024.0, 1196.797519069223]. Convert image to uint8 prior to saving to suppress this warning.\n",
      "Lossy conversion from float64 to uint8. Range [-1024.0, 1358.5020683004088]. Convert image to uint8 prior to saving to suppress this warning.\n",
      "Lossy conversion from float64 to uint8. Range [-1024.0, 1436.1055724047785]. Convert image to uint8 prior to saving to suppress this warning.\n",
      "Lossy conversion from float64 to uint8. Range [-1024.0, 1387.875407455043]. Convert image to uint8 prior to saving to suppress this warning.\n",
      "Lossy conversion from float64 to uint8. Range [-1024.0, 1357.3995632028832]. Convert image to uint8 prior to saving to suppress this warning.\n",
      "Lossy conversion from float64 to uint8. Range [-1024.0, 1354.1580334828182]. Convert image to uint8 prior to saving to suppress this warning.\n",
      "Lossy conversion from float64 to uint8. Range [-1024.0, 1379.436298527685]. Convert image to uint8 prior to saving to suppress this warning.\n",
      "Lossy conversion from float64 to uint8. Range [-1024.0, 1401.11961534774]. Convert image to uint8 prior to saving to suppress this warning.\n",
      "Lossy conversion from float64 to uint8. Range [-1024.0, 1378.5678572993306]. Convert image to uint8 prior to saving to suppress this warning.\n",
      "Lossy conversion from float64 to uint8. Range [-1024.0, 1376.6706185972812]. Convert image to uint8 prior to saving to suppress this warning.\n",
      "Lossy conversion from float64 to uint8. Range [-1024.0, 1320.8760658398414]. Convert image to uint8 prior to saving to suppress this warning.\n",
      "Lossy conversion from float64 to uint8. Range [-1024.0, 1283.7325771736519]. Convert image to uint8 prior to saving to suppress this warning.\n",
      "Lossy conversion from float64 to uint8. Range [-1024.0, 1318.2681649482383]. Convert image to uint8 prior to saving to suppress this warning.\n",
      "Lossy conversion from float64 to uint8. Range [-1024.0, 1390.4597821387667]. Convert image to uint8 prior to saving to suppress this warning.\n",
      "Lossy conversion from float64 to uint8. Range [-1024.0, 1409.2660745754945]. Convert image to uint8 prior to saving to suppress this warning.\n",
      "Lossy conversion from float64 to uint8. Range [-1024.0, 1423.3572261234935]. Convert image to uint8 prior to saving to suppress this warning.\n",
      "Lossy conversion from float64 to uint8. Range [-1024.0, 1416.960426085978]. Convert image to uint8 prior to saving to suppress this warning.\n",
      "Lossy conversion from float64 to uint8. Range [-1024.0, 1411.9709906658525]. Convert image to uint8 prior to saving to suppress this warning.\n",
      "Lossy conversion from float64 to uint8. Range [-1024.0, 1413.4174813213513]. Convert image to uint8 prior to saving to suppress this warning.\n",
      "Lossy conversion from float64 to uint8. Range [-1024.0, 1395.3644777228517]. Convert image to uint8 prior to saving to suppress this warning.\n",
      "Lossy conversion from float64 to uint8. Range [-1024.0, 1353.362003831226]. Convert image to uint8 prior to saving to suppress this warning.\n",
      "Lossy conversion from float64 to uint8. Range [-1024.0, 1339.8499100165072]. Convert image to uint8 prior to saving to suppress this warning.\n",
      "Lossy conversion from float64 to uint8. Range [-1024.0, 1311.5620382272007]. Convert image to uint8 prior to saving to suppress this warning.\n",
      "Lossy conversion from float64 to uint8. Range [-1024.0, 1302.8298932656533]. Convert image to uint8 prior to saving to suppress this warning.\n",
      "Lossy conversion from float64 to uint8. Range [-1024.0, 1284.7432373390975]. Convert image to uint8 prior to saving to suppress this warning.\n",
      "Lossy conversion from float64 to uint8. Range [-1024.0, 1316.4736819230816]. Convert image to uint8 prior to saving to suppress this warning.\n",
      "Lossy conversion from float64 to uint8. Range [-1024.0, 1359.7877289899957]. Convert image to uint8 prior to saving to suppress this warning.\n",
      "Lossy conversion from float64 to uint8. Range [-1024.0, 1380.648537686546]. Convert image to uint8 prior to saving to suppress this warning.\n",
      "Lossy conversion from float64 to uint8. Range [-1024.0, 1372.385594099212]. Convert image to uint8 prior to saving to suppress this warning.\n",
      "Lossy conversion from float64 to uint8. Range [-1024.0, 1316.9179225098485]. Convert image to uint8 prior to saving to suppress this warning.\n",
      "Lossy conversion from float64 to uint8. Range [-1024.0, 1362.599354974358]. Convert image to uint8 prior to saving to suppress this warning.\n",
      "Lossy conversion from float64 to uint8. Range [-1024.0, 1340.698735780707]. Convert image to uint8 prior to saving to suppress this warning.\n",
      "Lossy conversion from float64 to uint8. Range [-1024.0, 1345.743773384035]. Convert image to uint8 prior to saving to suppress this warning.\n",
      "Lossy conversion from float64 to uint8. Range [-1024.0, 1372.8275207816987]. Convert image to uint8 prior to saving to suppress this warning.\n",
      "Lossy conversion from float64 to uint8. Range [-1024.0, 1362.7365136062288]. Convert image to uint8 prior to saving to suppress this warning.\n",
      "Lossy conversion from float64 to uint8. Range [-1024.0, 1396.3925303870174]. Convert image to uint8 prior to saving to suppress this warning.\n",
      "Lossy conversion from float64 to uint8. Range [-1024.0, 1340.0861166481955]. Convert image to uint8 prior to saving to suppress this warning.\n",
      "Lossy conversion from float64 to uint8. Range [-1024.0, 1288.1095799737163]. Convert image to uint8 prior to saving to suppress this warning.\n",
      "Lossy conversion from float64 to uint8. Range [-1024.0, 1275.628820323118]. Convert image to uint8 prior to saving to suppress this warning.\n",
      "Lossy conversion from float64 to uint8. Range [-1024.0, 1243.307978605832]. Convert image to uint8 prior to saving to suppress this warning.\n",
      "Lossy conversion from float64 to uint8. Range [-1024.0, 1206.82474896641]. Convert image to uint8 prior to saving to suppress this warning.\n"
     ]
    },
    {
     "name": "stdout",
     "output_type": "stream",
     "text": [
      "6.nrrd\n"
     ]
    },
    {
     "name": "stderr",
     "output_type": "stream",
     "text": [
      "Lossy conversion from float64 to uint8. Range [-1024.0, 1046.680828550969]. Convert image to uint8 prior to saving to suppress this warning.\n",
      "Lossy conversion from float64 to uint8. Range [-1024.0, 980.6221996406416]. Convert image to uint8 prior to saving to suppress this warning.\n",
      "Lossy conversion from float64 to uint8. Range [-1024.0, 933.6111434440362]. Convert image to uint8 prior to saving to suppress this warning.\n"
     ]
    },
    {
     "name": "stdout",
     "output_type": "stream",
     "text": [
      "(512, 512, 89)\n"
     ]
    },
    {
     "name": "stderr",
     "output_type": "stream",
     "text": [
      "Lossy conversion from float64 to uint8. Range [-1024.0, 950.1427776627278]. Convert image to uint8 prior to saving to suppress this warning.\n",
      "Lossy conversion from float64 to uint8. Range [-1024.0, 878.990938433057]. Convert image to uint8 prior to saving to suppress this warning.\n",
      "Lossy conversion from float64 to uint8. Range [-1024.0, 902.0694916696183]. Convert image to uint8 prior to saving to suppress this warning.\n",
      "Lossy conversion from float64 to uint8. Range [-1024.0, 1047.4614318601064]. Convert image to uint8 prior to saving to suppress this warning.\n",
      "Lossy conversion from float64 to uint8. Range [-1024.0, 1089.0053933298375]. Convert image to uint8 prior to saving to suppress this warning.\n",
      "Lossy conversion from float64 to uint8. Range [-1024.0, 1146.1512059349964]. Convert image to uint8 prior to saving to suppress this warning.\n",
      "Lossy conversion from float64 to uint8. Range [-1024.0, 1101.7658329907167]. Convert image to uint8 prior to saving to suppress this warning.\n",
      "Lossy conversion from float64 to uint8. Range [-1024.0, 941.5270331722763]. Convert image to uint8 prior to saving to suppress this warning.\n",
      "Lossy conversion from float64 to uint8. Range [-1024.0, 1067.1540806532005]. Convert image to uint8 prior to saving to suppress this warning.\n",
      "Lossy conversion from float64 to uint8. Range [-1024.0, 1021.0982381439119]. Convert image to uint8 prior to saving to suppress this warning.\n",
      "Lossy conversion from float64 to uint8. Range [-1024.0, 900.5940397338683]. Convert image to uint8 prior to saving to suppress this warning.\n",
      "Lossy conversion from float64 to uint8. Range [-1024.0, 925.702288530239]. Convert image to uint8 prior to saving to suppress this warning.\n",
      "Lossy conversion from float64 to uint8. Range [-1024.0, 914.9337362784217]. Convert image to uint8 prior to saving to suppress this warning.\n",
      "Lossy conversion from float64 to uint8. Range [-1024.0, 938.881762971876]. Convert image to uint8 prior to saving to suppress this warning.\n",
      "Lossy conversion from float64 to uint8. Range [-1024.0, 1022.1183517034638]. Convert image to uint8 prior to saving to suppress this warning.\n",
      "Lossy conversion from float64 to uint8. Range [-1024.0, 1116.4724164811757]. Convert image to uint8 prior to saving to suppress this warning.\n",
      "Lossy conversion from float64 to uint8. Range [-1024.0, 1144.871746963323]. Convert image to uint8 prior to saving to suppress this warning.\n",
      "Lossy conversion from float64 to uint8. Range [-1024.0, 1182.6145786978673]. Convert image to uint8 prior to saving to suppress this warning.\n",
      "Lossy conversion from float64 to uint8. Range [-1024.0, 1116.7069037916413]. Convert image to uint8 prior to saving to suppress this warning.\n",
      "Lossy conversion from float64 to uint8. Range [-1024.0, 1114.1428537525594]. Convert image to uint8 prior to saving to suppress this warning.\n",
      "Lossy conversion from float64 to uint8. Range [-1024.0, 1162.2621414548962]. Convert image to uint8 prior to saving to suppress this warning.\n",
      "Lossy conversion from float64 to uint8. Range [-1024.0, 1176.7235329602202]. Convert image to uint8 prior to saving to suppress this warning.\n",
      "Lossy conversion from float64 to uint8. Range [-1024.0, 1145.1290792853686]. Convert image to uint8 prior to saving to suppress this warning.\n",
      "Lossy conversion from float64 to uint8. Range [-1024.0, 841.7786647465251]. Convert image to uint8 prior to saving to suppress this warning.\n",
      "Lossy conversion from float64 to uint8. Range [-1024.0, 1031.6622123503555]. Convert image to uint8 prior to saving to suppress this warning.\n",
      "Lossy conversion from float64 to uint8. Range [-1024.0, 1045.7032097394049]. Convert image to uint8 prior to saving to suppress this warning.\n",
      "Lossy conversion from float64 to uint8. Range [-1024.0, 1080.6857674501566]. Convert image to uint8 prior to saving to suppress this warning.\n",
      "Lossy conversion from float64 to uint8. Range [-1024.0, 1097.8776411149677]. Convert image to uint8 prior to saving to suppress this warning.\n",
      "Lossy conversion from float64 to uint8. Range [-1024.0, 1161.2051721768576]. Convert image to uint8 prior to saving to suppress this warning.\n",
      "Lossy conversion from float64 to uint8. Range [-1024.0, 1205.0632597294582]. Convert image to uint8 prior to saving to suppress this warning.\n",
      "Lossy conversion from float64 to uint8. Range [-1024.0, 1057.249669063473]. Convert image to uint8 prior to saving to suppress this warning.\n",
      "Lossy conversion from float64 to uint8. Range [-1024.0, 1125.053451534175]. Convert image to uint8 prior to saving to suppress this warning.\n",
      "Lossy conversion from float64 to uint8. Range [-1024.0, 1149.1961048400544]. Convert image to uint8 prior to saving to suppress this warning.\n",
      "Lossy conversion from float64 to uint8. Range [-1024.0, 1129.0590263332715]. Convert image to uint8 prior to saving to suppress this warning.\n",
      "Lossy conversion from float64 to uint8. Range [-1024.0, 988.7193929297287]. Convert image to uint8 prior to saving to suppress this warning.\n",
      "Lossy conversion from float64 to uint8. Range [-1024.0, 946.3264833263041]. Convert image to uint8 prior to saving to suppress this warning.\n",
      "Lossy conversion from float64 to uint8. Range [-1024.0, 1051.853301202381]. Convert image to uint8 prior to saving to suppress this warning.\n"
     ]
    },
    {
     "name": "stdout",
     "output_type": "stream",
     "text": [
      "7.nrrd\n",
      "8.nrrd\n",
      "(512, 512, 50)\n"
     ]
    },
    {
     "name": "stderr",
     "output_type": "stream",
     "text": [
      "Lossy conversion from float64 to uint8. Range [-1024.0, 1064.0]. Convert image to uint8 prior to saving to suppress this warning.\n",
      "Lossy conversion from float64 to uint8. Range [-1024.0, 1093.0]. Convert image to uint8 prior to saving to suppress this warning.\n",
      "Lossy conversion from float64 to uint8. Range [-1024.0, 1096.0]. Convert image to uint8 prior to saving to suppress this warning.\n",
      "Lossy conversion from float64 to uint8. Range [-1024.0, 1098.0]. Convert image to uint8 prior to saving to suppress this warning.\n",
      "Lossy conversion from float64 to uint8. Range [-1024.0, 1039.0]. Convert image to uint8 prior to saving to suppress this warning.\n",
      "Lossy conversion from float64 to uint8. Range [-1024.0, 1069.0]. Convert image to uint8 prior to saving to suppress this warning.\n",
      "Lossy conversion from float64 to uint8. Range [-1024.0, 1114.0]. Convert image to uint8 prior to saving to suppress this warning.\n",
      "Lossy conversion from float64 to uint8. Range [-1024.0, 1199.0]. Convert image to uint8 prior to saving to suppress this warning.\n",
      "Lossy conversion from float64 to uint8. Range [-1024.0, 1261.0]. Convert image to uint8 prior to saving to suppress this warning.\n",
      "Lossy conversion from float64 to uint8. Range [-1024.0, 1171.0]. Convert image to uint8 prior to saving to suppress this warning.\n",
      "Lossy conversion from float64 to uint8. Range [-1024.0, 1173.0]. Convert image to uint8 prior to saving to suppress this warning.\n",
      "Lossy conversion from float64 to uint8. Range [-1024.0, 1165.0]. Convert image to uint8 prior to saving to suppress this warning.\n",
      "Lossy conversion from float64 to uint8. Range [-1024.0, 1156.0]. Convert image to uint8 prior to saving to suppress this warning.\n",
      "Lossy conversion from float64 to uint8. Range [-1024.0, 1079.0]. Convert image to uint8 prior to saving to suppress this warning.\n",
      "Lossy conversion from float64 to uint8. Range [-1024.0, 1080.0]. Convert image to uint8 prior to saving to suppress this warning.\n",
      "Lossy conversion from float64 to uint8. Range [-1024.0, 870.0]. Convert image to uint8 prior to saving to suppress this warning.\n",
      "Lossy conversion from float64 to uint8. Range [-1024.0, 915.0]. Convert image to uint8 prior to saving to suppress this warning.\n",
      "Lossy conversion from float64 to uint8. Range [-1024.0, 1107.0]. Convert image to uint8 prior to saving to suppress this warning.\n",
      "Lossy conversion from float64 to uint8. Range [-1024.0, 1021.0]. Convert image to uint8 prior to saving to suppress this warning.\n",
      "Lossy conversion from float64 to uint8. Range [-1024.0, 1034.0]. Convert image to uint8 prior to saving to suppress this warning.\n",
      "Lossy conversion from float64 to uint8. Range [-1024.0, 1058.0]. Convert image to uint8 prior to saving to suppress this warning.\n",
      "Lossy conversion from float64 to uint8. Range [-1024.0, 1104.0]. Convert image to uint8 prior to saving to suppress this warning.\n",
      "Lossy conversion from float64 to uint8. Range [-1024.0, 1083.0]. Convert image to uint8 prior to saving to suppress this warning.\n",
      "Lossy conversion from int16 to uint8. Range [0, 2]. Convert image to uint8 prior to saving to suppress this warning.\n",
      "Lossy conversion from int16 to uint8. Range [0, 2]. Convert image to uint8 prior to saving to suppress this warning.\n",
      "Lossy conversion from int16 to uint8. Range [0, 2]. Convert image to uint8 prior to saving to suppress this warning.\n",
      "Lossy conversion from int16 to uint8. Range [0, 2]. Convert image to uint8 prior to saving to suppress this warning.\n",
      "Lossy conversion from int16 to uint8. Range [0, 2]. Convert image to uint8 prior to saving to suppress this warning.\n",
      "Lossy conversion from int16 to uint8. Range [0, 2]. Convert image to uint8 prior to saving to suppress this warning.\n"
     ]
    },
    {
     "name": "stdout",
     "output_type": "stream",
     "text": [
      "label\n",
      "13.nrrd\n",
      "(512, 512, 75)\n"
     ]
    },
    {
     "name": "stderr",
     "output_type": "stream",
     "text": [
      "Lossy conversion from int16 to uint8. Range [0, 2]. Convert image to uint8 prior to saving to suppress this warning.\n",
      "Lossy conversion from int16 to uint8. Range [0, 2]. Convert image to uint8 prior to saving to suppress this warning.\n",
      "Lossy conversion from int16 to uint8. Range [0, 2]. Convert image to uint8 prior to saving to suppress this warning.\n",
      "Lossy conversion from int16 to uint8. Range [0, 2]. Convert image to uint8 prior to saving to suppress this warning.\n",
      "Lossy conversion from int16 to uint8. Range [0, 2]. Convert image to uint8 prior to saving to suppress this warning.\n",
      "Lossy conversion from int16 to uint8. Range [0, 2]. Convert image to uint8 prior to saving to suppress this warning.\n",
      "Lossy conversion from int16 to uint8. Range [0, 2]. Convert image to uint8 prior to saving to suppress this warning.\n",
      "Lossy conversion from int16 to uint8. Range [0, 2]. Convert image to uint8 prior to saving to suppress this warning.\n",
      "Lossy conversion from int16 to uint8. Range [0, 2]. Convert image to uint8 prior to saving to suppress this warning.\n",
      "Lossy conversion from int16 to uint8. Range [0, 2]. Convert image to uint8 prior to saving to suppress this warning.\n",
      "Lossy conversion from int16 to uint8. Range [0, 2]. Convert image to uint8 prior to saving to suppress this warning.\n",
      "Lossy conversion from int16 to uint8. Range [0, 2]. Convert image to uint8 prior to saving to suppress this warning.\n",
      "Lossy conversion from int16 to uint8. Range [0, 2]. Convert image to uint8 prior to saving to suppress this warning.\n",
      "Lossy conversion from int16 to uint8. Range [0, 2]. Convert image to uint8 prior to saving to suppress this warning.\n",
      "Lossy conversion from int16 to uint8. Range [0, 2]. Convert image to uint8 prior to saving to suppress this warning.\n",
      "Lossy conversion from int16 to uint8. Range [0, 2]. Convert image to uint8 prior to saving to suppress this warning.\n",
      "Lossy conversion from int16 to uint8. Range [0, 2]. Convert image to uint8 prior to saving to suppress this warning.\n",
      "Lossy conversion from int16 to uint8. Range [0, 2]. Convert image to uint8 prior to saving to suppress this warning.\n",
      "Lossy conversion from int16 to uint8. Range [0, 2]. Convert image to uint8 prior to saving to suppress this warning.\n",
      "Lossy conversion from int16 to uint8. Range [0, 2]. Convert image to uint8 prior to saving to suppress this warning.\n",
      "Lossy conversion from int16 to uint8. Range [0, 2]. Convert image to uint8 prior to saving to suppress this warning.\n",
      "Lossy conversion from int16 to uint8. Range [0, 2]. Convert image to uint8 prior to saving to suppress this warning.\n",
      "Lossy conversion from int16 to uint8. Range [0, 2]. Convert image to uint8 prior to saving to suppress this warning.\n",
      "Lossy conversion from int16 to uint8. Range [0, 2]. Convert image to uint8 prior to saving to suppress this warning.\n",
      "Lossy conversion from int16 to uint8. Range [0, 2]. Convert image to uint8 prior to saving to suppress this warning.\n",
      "Lossy conversion from int16 to uint8. Range [0, 2]. Convert image to uint8 prior to saving to suppress this warning.\n",
      "Lossy conversion from int16 to uint8. Range [0, 2]. Convert image to uint8 prior to saving to suppress this warning.\n",
      "Lossy conversion from int16 to uint8. Range [0, 2]. Convert image to uint8 prior to saving to suppress this warning.\n",
      "Lossy conversion from int16 to uint8. Range [0, 2]. Convert image to uint8 prior to saving to suppress this warning.\n",
      "Lossy conversion from int16 to uint8. Range [0, 2]. Convert image to uint8 prior to saving to suppress this warning.\n",
      "Lossy conversion from int16 to uint8. Range [0, 2]. Convert image to uint8 prior to saving to suppress this warning.\n",
      "Lossy conversion from int16 to uint8. Range [0, 2]. Convert image to uint8 prior to saving to suppress this warning.\n",
      "Lossy conversion from int16 to uint8. Range [0, 2]. Convert image to uint8 prior to saving to suppress this warning.\n",
      "Lossy conversion from int16 to uint8. Range [0, 2]. Convert image to uint8 prior to saving to suppress this warning.\n",
      "Lossy conversion from int16 to uint8. Range [0, 2]. Convert image to uint8 prior to saving to suppress this warning.\n"
     ]
    },
    {
     "name": "stdout",
     "output_type": "stream",
     "text": [
      "14.nrrd\n",
      "(512, 512, 32)\n"
     ]
    },
    {
     "name": "stderr",
     "output_type": "stream",
     "text": [
      "Lossy conversion from int16 to uint8. Range [0, 2]. Convert image to uint8 prior to saving to suppress this warning.\n",
      "Lossy conversion from int16 to uint8. Range [0, 2]. Convert image to uint8 prior to saving to suppress this warning.\n",
      "Lossy conversion from int16 to uint8. Range [0, 2]. Convert image to uint8 prior to saving to suppress this warning.\n",
      "Lossy conversion from int16 to uint8. Range [0, 2]. Convert image to uint8 prior to saving to suppress this warning.\n",
      "Lossy conversion from int16 to uint8. Range [0, 2]. Convert image to uint8 prior to saving to suppress this warning.\n",
      "Lossy conversion from int16 to uint8. Range [0, 2]. Convert image to uint8 prior to saving to suppress this warning.\n",
      "Lossy conversion from int16 to uint8. Range [0, 2]. Convert image to uint8 prior to saving to suppress this warning.\n",
      "Lossy conversion from int16 to uint8. Range [0, 2]. Convert image to uint8 prior to saving to suppress this warning.\n",
      "Lossy conversion from int16 to uint8. Range [0, 2]. Convert image to uint8 prior to saving to suppress this warning.\n",
      "Lossy conversion from int16 to uint8. Range [0, 2]. Convert image to uint8 prior to saving to suppress this warning.\n",
      "Lossy conversion from int16 to uint8. Range [0, 2]. Convert image to uint8 prior to saving to suppress this warning.\n",
      "Lossy conversion from int16 to uint8. Range [0, 2]. Convert image to uint8 prior to saving to suppress this warning.\n",
      "Lossy conversion from int16 to uint8. Range [0, 2]. Convert image to uint8 prior to saving to suppress this warning.\n",
      "Lossy conversion from int16 to uint8. Range [0, 2]. Convert image to uint8 prior to saving to suppress this warning.\n",
      "Lossy conversion from int16 to uint8. Range [0, 2]. Convert image to uint8 prior to saving to suppress this warning.\n"
     ]
    },
    {
     "name": "stdout",
     "output_type": "stream",
     "text": [
      "15.nrrd\n",
      "(512, 512, 100)\n"
     ]
    },
    {
     "name": "stderr",
     "output_type": "stream",
     "text": [
      "Lossy conversion from int16 to uint8. Range [0, 2]. Convert image to uint8 prior to saving to suppress this warning.\n",
      "Lossy conversion from int16 to uint8. Range [0, 2]. Convert image to uint8 prior to saving to suppress this warning.\n",
      "Lossy conversion from int16 to uint8. Range [0, 2]. Convert image to uint8 prior to saving to suppress this warning.\n",
      "Lossy conversion from int16 to uint8. Range [0, 2]. Convert image to uint8 prior to saving to suppress this warning.\n",
      "Lossy conversion from int16 to uint8. Range [0, 2]. Convert image to uint8 prior to saving to suppress this warning.\n",
      "Lossy conversion from int16 to uint8. Range [0, 2]. Convert image to uint8 prior to saving to suppress this warning.\n",
      "Lossy conversion from int16 to uint8. Range [0, 2]. Convert image to uint8 prior to saving to suppress this warning.\n",
      "Lossy conversion from int16 to uint8. Range [0, 2]. Convert image to uint8 prior to saving to suppress this warning.\n",
      "Lossy conversion from int16 to uint8. Range [0, 2]. Convert image to uint8 prior to saving to suppress this warning.\n",
      "Lossy conversion from int16 to uint8. Range [0, 2]. Convert image to uint8 prior to saving to suppress this warning.\n",
      "Lossy conversion from int16 to uint8. Range [0, 2]. Convert image to uint8 prior to saving to suppress this warning.\n",
      "Lossy conversion from int16 to uint8. Range [0, 2]. Convert image to uint8 prior to saving to suppress this warning.\n",
      "Lossy conversion from int16 to uint8. Range [0, 2]. Convert image to uint8 prior to saving to suppress this warning.\n",
      "Lossy conversion from int16 to uint8. Range [0, 2]. Convert image to uint8 prior to saving to suppress this warning.\n",
      "Lossy conversion from int16 to uint8. Range [0, 2]. Convert image to uint8 prior to saving to suppress this warning.\n",
      "Lossy conversion from int16 to uint8. Range [0, 2]. Convert image to uint8 prior to saving to suppress this warning.\n",
      "Lossy conversion from int16 to uint8. Range [0, 2]. Convert image to uint8 prior to saving to suppress this warning.\n",
      "Lossy conversion from int16 to uint8. Range [0, 2]. Convert image to uint8 prior to saving to suppress this warning.\n",
      "Lossy conversion from int16 to uint8. Range [0, 2]. Convert image to uint8 prior to saving to suppress this warning.\n",
      "Lossy conversion from int16 to uint8. Range [0, 2]. Convert image to uint8 prior to saving to suppress this warning.\n",
      "Lossy conversion from int16 to uint8. Range [0, 2]. Convert image to uint8 prior to saving to suppress this warning.\n",
      "Lossy conversion from int16 to uint8. Range [0, 2]. Convert image to uint8 prior to saving to suppress this warning.\n",
      "Lossy conversion from int16 to uint8. Range [0, 2]. Convert image to uint8 prior to saving to suppress this warning.\n",
      "Lossy conversion from int16 to uint8. Range [0, 2]. Convert image to uint8 prior to saving to suppress this warning.\n",
      "Lossy conversion from int16 to uint8. Range [0, 2]. Convert image to uint8 prior to saving to suppress this warning.\n",
      "Lossy conversion from int16 to uint8. Range [0, 2]. Convert image to uint8 prior to saving to suppress this warning.\n",
      "Lossy conversion from int16 to uint8. Range [0, 2]. Convert image to uint8 prior to saving to suppress this warning.\n",
      "Lossy conversion from int16 to uint8. Range [0, 2]. Convert image to uint8 prior to saving to suppress this warning.\n",
      "Lossy conversion from int16 to uint8. Range [0, 2]. Convert image to uint8 prior to saving to suppress this warning.\n",
      "Lossy conversion from int16 to uint8. Range [0, 2]. Convert image to uint8 prior to saving to suppress this warning.\n",
      "Lossy conversion from int16 to uint8. Range [0, 2]. Convert image to uint8 prior to saving to suppress this warning.\n",
      "Lossy conversion from int16 to uint8. Range [0, 2]. Convert image to uint8 prior to saving to suppress this warning.\n",
      "Lossy conversion from int16 to uint8. Range [0, 2]. Convert image to uint8 prior to saving to suppress this warning.\n",
      "Lossy conversion from int16 to uint8. Range [0, 2]. Convert image to uint8 prior to saving to suppress this warning.\n",
      "Lossy conversion from int16 to uint8. Range [0, 2]. Convert image to uint8 prior to saving to suppress this warning.\n",
      "Lossy conversion from int16 to uint8. Range [0, 2]. Convert image to uint8 prior to saving to suppress this warning.\n",
      "Lossy conversion from int16 to uint8. Range [0, 2]. Convert image to uint8 prior to saving to suppress this warning.\n",
      "Lossy conversion from int16 to uint8. Range [0, 2]. Convert image to uint8 prior to saving to suppress this warning.\n",
      "Lossy conversion from int16 to uint8. Range [0, 2]. Convert image to uint8 prior to saving to suppress this warning.\n",
      "Lossy conversion from int16 to uint8. Range [0, 2]. Convert image to uint8 prior to saving to suppress this warning.\n",
      "Lossy conversion from int16 to uint8. Range [0, 2]. Convert image to uint8 prior to saving to suppress this warning.\n",
      "Lossy conversion from int16 to uint8. Range [0, 2]. Convert image to uint8 prior to saving to suppress this warning.\n",
      "Lossy conversion from int16 to uint8. Range [0, 2]. Convert image to uint8 prior to saving to suppress this warning.\n",
      "Lossy conversion from int16 to uint8. Range [0, 2]. Convert image to uint8 prior to saving to suppress this warning.\n"
     ]
    },
    {
     "name": "stdout",
     "output_type": "stream",
     "text": [
      "16.nrrd\n",
      "(512, 512, 60)\n"
     ]
    },
    {
     "name": "stderr",
     "output_type": "stream",
     "text": [
      "Lossy conversion from int16 to uint8. Range [0, 2]. Convert image to uint8 prior to saving to suppress this warning.\n",
      "Lossy conversion from int16 to uint8. Range [0, 2]. Convert image to uint8 prior to saving to suppress this warning.\n",
      "Lossy conversion from int16 to uint8. Range [0, 2]. Convert image to uint8 prior to saving to suppress this warning.\n",
      "Lossy conversion from int16 to uint8. Range [0, 2]. Convert image to uint8 prior to saving to suppress this warning.\n",
      "Lossy conversion from int16 to uint8. Range [0, 2]. Convert image to uint8 prior to saving to suppress this warning.\n",
      "Lossy conversion from int16 to uint8. Range [0, 2]. Convert image to uint8 prior to saving to suppress this warning.\n",
      "Lossy conversion from int16 to uint8. Range [0, 2]. Convert image to uint8 prior to saving to suppress this warning.\n",
      "Lossy conversion from int16 to uint8. Range [0, 2]. Convert image to uint8 prior to saving to suppress this warning.\n",
      "Lossy conversion from int16 to uint8. Range [0, 2]. Convert image to uint8 prior to saving to suppress this warning.\n",
      "Lossy conversion from int16 to uint8. Range [0, 2]. Convert image to uint8 prior to saving to suppress this warning.\n",
      "Lossy conversion from int16 to uint8. Range [0, 2]. Convert image to uint8 prior to saving to suppress this warning.\n",
      "Lossy conversion from int16 to uint8. Range [0, 2]. Convert image to uint8 prior to saving to suppress this warning.\n",
      "Lossy conversion from int16 to uint8. Range [0, 2]. Convert image to uint8 prior to saving to suppress this warning.\n",
      "Lossy conversion from int16 to uint8. Range [0, 2]. Convert image to uint8 prior to saving to suppress this warning.\n",
      "Lossy conversion from int16 to uint8. Range [0, 2]. Convert image to uint8 prior to saving to suppress this warning.\n",
      "Lossy conversion from int16 to uint8. Range [0, 2]. Convert image to uint8 prior to saving to suppress this warning.\n",
      "Lossy conversion from int16 to uint8. Range [0, 2]. Convert image to uint8 prior to saving to suppress this warning.\n",
      "Lossy conversion from int16 to uint8. Range [0, 2]. Convert image to uint8 prior to saving to suppress this warning.\n",
      "Lossy conversion from int16 to uint8. Range [0, 2]. Convert image to uint8 prior to saving to suppress this warning.\n",
      "Lossy conversion from int16 to uint8. Range [0, 2]. Convert image to uint8 prior to saving to suppress this warning.\n"
     ]
    },
    {
     "name": "stdout",
     "output_type": "stream",
     "text": [
      "2.nrrd\n",
      "(512, 512, 64)\n"
     ]
    },
    {
     "name": "stderr",
     "output_type": "stream",
     "text": [
      "Lossy conversion from int16 to uint8. Range [0, 2]. Convert image to uint8 prior to saving to suppress this warning.\n",
      "Lossy conversion from int16 to uint8. Range [0, 2]. Convert image to uint8 prior to saving to suppress this warning.\n",
      "Lossy conversion from int16 to uint8. Range [0, 2]. Convert image to uint8 prior to saving to suppress this warning.\n",
      "Lossy conversion from int16 to uint8. Range [0, 2]. Convert image to uint8 prior to saving to suppress this warning.\n",
      "Lossy conversion from int16 to uint8. Range [0, 2]. Convert image to uint8 prior to saving to suppress this warning.\n",
      "Lossy conversion from int16 to uint8. Range [0, 2]. Convert image to uint8 prior to saving to suppress this warning.\n",
      "Lossy conversion from int16 to uint8. Range [0, 2]. Convert image to uint8 prior to saving to suppress this warning.\n",
      "Lossy conversion from int16 to uint8. Range [0, 2]. Convert image to uint8 prior to saving to suppress this warning.\n"
     ]
    },
    {
     "name": "stdout",
     "output_type": "stream",
     "text": [
      "20.nrrd\n",
      "(512, 512, 68)\n"
     ]
    },
    {
     "name": "stderr",
     "output_type": "stream",
     "text": [
      "Lossy conversion from int16 to uint8. Range [0, 2]. Convert image to uint8 prior to saving to suppress this warning.\n",
      "Lossy conversion from int16 to uint8. Range [0, 2]. Convert image to uint8 prior to saving to suppress this warning.\n",
      "Lossy conversion from int16 to uint8. Range [0, 2]. Convert image to uint8 prior to saving to suppress this warning.\n",
      "Lossy conversion from int16 to uint8. Range [0, 2]. Convert image to uint8 prior to saving to suppress this warning.\n",
      "Lossy conversion from int16 to uint8. Range [0, 2]. Convert image to uint8 prior to saving to suppress this warning.\n",
      "Lossy conversion from int16 to uint8. Range [0, 2]. Convert image to uint8 prior to saving to suppress this warning.\n",
      "Lossy conversion from int16 to uint8. Range [0, 2]. Convert image to uint8 prior to saving to suppress this warning.\n",
      "Lossy conversion from int16 to uint8. Range [0, 2]. Convert image to uint8 prior to saving to suppress this warning.\n",
      "Lossy conversion from int16 to uint8. Range [0, 2]. Convert image to uint8 prior to saving to suppress this warning.\n",
      "Lossy conversion from int16 to uint8. Range [0, 2]. Convert image to uint8 prior to saving to suppress this warning.\n",
      "Lossy conversion from int16 to uint8. Range [0, 2]. Convert image to uint8 prior to saving to suppress this warning.\n",
      "Lossy conversion from int16 to uint8. Range [0, 2]. Convert image to uint8 prior to saving to suppress this warning.\n",
      "Lossy conversion from int16 to uint8. Range [0, 2]. Convert image to uint8 prior to saving to suppress this warning.\n",
      "Lossy conversion from int16 to uint8. Range [0, 2]. Convert image to uint8 prior to saving to suppress this warning.\n",
      "Lossy conversion from int16 to uint8. Range [0, 2]. Convert image to uint8 prior to saving to suppress this warning.\n",
      "Lossy conversion from int16 to uint8. Range [0, 2]. Convert image to uint8 prior to saving to suppress this warning.\n",
      "Lossy conversion from int16 to uint8. Range [0, 2]. Convert image to uint8 prior to saving to suppress this warning.\n",
      "Lossy conversion from int16 to uint8. Range [0, 2]. Convert image to uint8 prior to saving to suppress this warning.\n",
      "Lossy conversion from int16 to uint8. Range [0, 2]. Convert image to uint8 prior to saving to suppress this warning.\n",
      "Lossy conversion from int16 to uint8. Range [0, 2]. Convert image to uint8 prior to saving to suppress this warning.\n",
      "Lossy conversion from int16 to uint8. Range [0, 2]. Convert image to uint8 prior to saving to suppress this warning.\n",
      "Lossy conversion from int16 to uint8. Range [0, 2]. Convert image to uint8 prior to saving to suppress this warning.\n",
      "Lossy conversion from int16 to uint8. Range [0, 2]. Convert image to uint8 prior to saving to suppress this warning.\n",
      "Lossy conversion from int16 to uint8. Range [0, 2]. Convert image to uint8 prior to saving to suppress this warning.\n",
      "Lossy conversion from int16 to uint8. Range [0, 2]. Convert image to uint8 prior to saving to suppress this warning.\n",
      "Lossy conversion from int16 to uint8. Range [0, 2]. Convert image to uint8 prior to saving to suppress this warning.\n",
      "Lossy conversion from int16 to uint8. Range [0, 2]. Convert image to uint8 prior to saving to suppress this warning.\n",
      "Lossy conversion from int16 to uint8. Range [0, 2]. Convert image to uint8 prior to saving to suppress this warning.\n",
      "Lossy conversion from int16 to uint8. Range [0, 2]. Convert image to uint8 prior to saving to suppress this warning.\n",
      "Lossy conversion from int16 to uint8. Range [0, 2]. Convert image to uint8 prior to saving to suppress this warning.\n"
     ]
    },
    {
     "name": "stdout",
     "output_type": "stream",
     "text": [
      "4.nrrd\n",
      "(512, 512, 96)\n"
     ]
    },
    {
     "name": "stderr",
     "output_type": "stream",
     "text": [
      "Lossy conversion from int16 to uint8. Range [0, 2]. Convert image to uint8 prior to saving to suppress this warning.\n",
      "Lossy conversion from int16 to uint8. Range [0, 2]. Convert image to uint8 prior to saving to suppress this warning.\n",
      "Lossy conversion from int16 to uint8. Range [0, 2]. Convert image to uint8 prior to saving to suppress this warning.\n",
      "Lossy conversion from int16 to uint8. Range [0, 2]. Convert image to uint8 prior to saving to suppress this warning.\n",
      "Lossy conversion from int16 to uint8. Range [0, 2]. Convert image to uint8 prior to saving to suppress this warning.\n",
      "Lossy conversion from int16 to uint8. Range [0, 2]. Convert image to uint8 prior to saving to suppress this warning.\n",
      "Lossy conversion from int16 to uint8. Range [0, 2]. Convert image to uint8 prior to saving to suppress this warning.\n",
      "Lossy conversion from int16 to uint8. Range [0, 2]. Convert image to uint8 prior to saving to suppress this warning.\n",
      "Lossy conversion from int16 to uint8. Range [0, 2]. Convert image to uint8 prior to saving to suppress this warning.\n",
      "Lossy conversion from int16 to uint8. Range [0, 2]. Convert image to uint8 prior to saving to suppress this warning.\n",
      "Lossy conversion from int16 to uint8. Range [0, 2]. Convert image to uint8 prior to saving to suppress this warning.\n",
      "Lossy conversion from int16 to uint8. Range [0, 2]. Convert image to uint8 prior to saving to suppress this warning.\n",
      "Lossy conversion from int16 to uint8. Range [0, 2]. Convert image to uint8 prior to saving to suppress this warning.\n",
      "Lossy conversion from int16 to uint8. Range [0, 2]. Convert image to uint8 prior to saving to suppress this warning.\n",
      "Lossy conversion from int16 to uint8. Range [0, 2]. Convert image to uint8 prior to saving to suppress this warning.\n",
      "Lossy conversion from int16 to uint8. Range [0, 2]. Convert image to uint8 prior to saving to suppress this warning.\n",
      "Lossy conversion from int16 to uint8. Range [0, 2]. Convert image to uint8 prior to saving to suppress this warning.\n",
      "Lossy conversion from int16 to uint8. Range [0, 2]. Convert image to uint8 prior to saving to suppress this warning.\n",
      "Lossy conversion from int16 to uint8. Range [0, 2]. Convert image to uint8 prior to saving to suppress this warning.\n",
      "Lossy conversion from int16 to uint8. Range [0, 2]. Convert image to uint8 prior to saving to suppress this warning.\n",
      "Lossy conversion from int16 to uint8. Range [0, 2]. Convert image to uint8 prior to saving to suppress this warning.\n",
      "Lossy conversion from int16 to uint8. Range [0, 2]. Convert image to uint8 prior to saving to suppress this warning.\n",
      "Lossy conversion from int16 to uint8. Range [0, 2]. Convert image to uint8 prior to saving to suppress this warning.\n",
      "Lossy conversion from int16 to uint8. Range [0, 2]. Convert image to uint8 prior to saving to suppress this warning.\n",
      "Lossy conversion from int16 to uint8. Range [0, 2]. Convert image to uint8 prior to saving to suppress this warning.\n",
      "Lossy conversion from int16 to uint8. Range [0, 2]. Convert image to uint8 prior to saving to suppress this warning.\n",
      "Lossy conversion from int16 to uint8. Range [0, 2]. Convert image to uint8 prior to saving to suppress this warning.\n",
      "Lossy conversion from int16 to uint8. Range [0, 2]. Convert image to uint8 prior to saving to suppress this warning.\n",
      "Lossy conversion from int16 to uint8. Range [0, 2]. Convert image to uint8 prior to saving to suppress this warning.\n",
      "Lossy conversion from int16 to uint8. Range [0, 2]. Convert image to uint8 prior to saving to suppress this warning.\n",
      "Lossy conversion from int16 to uint8. Range [0, 2]. Convert image to uint8 prior to saving to suppress this warning.\n",
      "Lossy conversion from int16 to uint8. Range [0, 2]. Convert image to uint8 prior to saving to suppress this warning.\n",
      "Lossy conversion from int16 to uint8. Range [0, 2]. Convert image to uint8 prior to saving to suppress this warning.\n",
      "Lossy conversion from int16 to uint8. Range [0, 2]. Convert image to uint8 prior to saving to suppress this warning.\n",
      "Lossy conversion from int16 to uint8. Range [0, 2]. Convert image to uint8 prior to saving to suppress this warning.\n",
      "Lossy conversion from int16 to uint8. Range [0, 2]. Convert image to uint8 prior to saving to suppress this warning.\n",
      "Lossy conversion from int16 to uint8. Range [0, 2]. Convert image to uint8 prior to saving to suppress this warning.\n",
      "Lossy conversion from int16 to uint8. Range [0, 2]. Convert image to uint8 prior to saving to suppress this warning.\n",
      "Lossy conversion from int16 to uint8. Range [0, 2]. Convert image to uint8 prior to saving to suppress this warning.\n",
      "Lossy conversion from int16 to uint8. Range [0, 2]. Convert image to uint8 prior to saving to suppress this warning.\n",
      "Lossy conversion from int16 to uint8. Range [0, 2]. Convert image to uint8 prior to saving to suppress this warning.\n",
      "Lossy conversion from int16 to uint8. Range [0, 2]. Convert image to uint8 prior to saving to suppress this warning.\n"
     ]
    },
    {
     "name": "stdout",
     "output_type": "stream",
     "text": [
      "5.nrrd\n",
      "(512, 512, 61)\n"
     ]
    },
    {
     "name": "stderr",
     "output_type": "stream",
     "text": [
      "Lossy conversion from int16 to uint8. Range [0, 2]. Convert image to uint8 prior to saving to suppress this warning.\n",
      "Lossy conversion from int16 to uint8. Range [0, 2]. Convert image to uint8 prior to saving to suppress this warning.\n",
      "Lossy conversion from int16 to uint8. Range [0, 2]. Convert image to uint8 prior to saving to suppress this warning.\n",
      "Lossy conversion from int16 to uint8. Range [0, 2]. Convert image to uint8 prior to saving to suppress this warning.\n",
      "Lossy conversion from int16 to uint8. Range [0, 2]. Convert image to uint8 prior to saving to suppress this warning.\n",
      "Lossy conversion from int16 to uint8. Range [0, 2]. Convert image to uint8 prior to saving to suppress this warning.\n",
      "Lossy conversion from int16 to uint8. Range [0, 2]. Convert image to uint8 prior to saving to suppress this warning.\n",
      "Lossy conversion from int16 to uint8. Range [0, 2]. Convert image to uint8 prior to saving to suppress this warning.\n",
      "Lossy conversion from int16 to uint8. Range [0, 2]. Convert image to uint8 prior to saving to suppress this warning.\n",
      "Lossy conversion from int16 to uint8. Range [0, 2]. Convert image to uint8 prior to saving to suppress this warning.\n",
      "Lossy conversion from int16 to uint8. Range [0, 2]. Convert image to uint8 prior to saving to suppress this warning.\n",
      "Lossy conversion from int16 to uint8. Range [0, 2]. Convert image to uint8 prior to saving to suppress this warning.\n",
      "Lossy conversion from int16 to uint8. Range [0, 2]. Convert image to uint8 prior to saving to suppress this warning.\n",
      "Lossy conversion from int16 to uint8. Range [0, 2]. Convert image to uint8 prior to saving to suppress this warning.\n",
      "Lossy conversion from int16 to uint8. Range [0, 2]. Convert image to uint8 prior to saving to suppress this warning.\n",
      "Lossy conversion from int16 to uint8. Range [0, 2]. Convert image to uint8 prior to saving to suppress this warning.\n",
      "Lossy conversion from int16 to uint8. Range [0, 2]. Convert image to uint8 prior to saving to suppress this warning.\n",
      "Lossy conversion from int16 to uint8. Range [0, 2]. Convert image to uint8 prior to saving to suppress this warning.\n",
      "Lossy conversion from int16 to uint8. Range [0, 2]. Convert image to uint8 prior to saving to suppress this warning.\n",
      "Lossy conversion from int16 to uint8. Range [0, 2]. Convert image to uint8 prior to saving to suppress this warning.\n",
      "Lossy conversion from int16 to uint8. Range [0, 2]. Convert image to uint8 prior to saving to suppress this warning.\n",
      "Lossy conversion from int16 to uint8. Range [0, 2]. Convert image to uint8 prior to saving to suppress this warning.\n",
      "Lossy conversion from int16 to uint8. Range [0, 2]. Convert image to uint8 prior to saving to suppress this warning.\n",
      "Lossy conversion from int16 to uint8. Range [0, 2]. Convert image to uint8 prior to saving to suppress this warning.\n",
      "Lossy conversion from int16 to uint8. Range [0, 2]. Convert image to uint8 prior to saving to suppress this warning.\n",
      "Lossy conversion from int16 to uint8. Range [0, 2]. Convert image to uint8 prior to saving to suppress this warning.\n",
      "Lossy conversion from int16 to uint8. Range [0, 2]. Convert image to uint8 prior to saving to suppress this warning.\n",
      "Lossy conversion from int16 to uint8. Range [0, 2]. Convert image to uint8 prior to saving to suppress this warning.\n",
      "Lossy conversion from int16 to uint8. Range [0, 2]. Convert image to uint8 prior to saving to suppress this warning.\n"
     ]
    },
    {
     "name": "stdout",
     "output_type": "stream",
     "text": [
      "51.nrrd\n",
      "53.nrrd\n",
      "(512, 512, 131)\n"
     ]
    },
    {
     "name": "stderr",
     "output_type": "stream",
     "text": [
      "Lossy conversion from int16 to uint8. Range [0, 2]. Convert image to uint8 prior to saving to suppress this warning.\n",
      "Lossy conversion from int16 to uint8. Range [0, 2]. Convert image to uint8 prior to saving to suppress this warning.\n",
      "Lossy conversion from int16 to uint8. Range [0, 2]. Convert image to uint8 prior to saving to suppress this warning.\n",
      "Lossy conversion from int16 to uint8. Range [0, 2]. Convert image to uint8 prior to saving to suppress this warning.\n",
      "Lossy conversion from int16 to uint8. Range [0, 2]. Convert image to uint8 prior to saving to suppress this warning.\n",
      "Lossy conversion from int16 to uint8. Range [0, 2]. Convert image to uint8 prior to saving to suppress this warning.\n",
      "Lossy conversion from int16 to uint8. Range [0, 2]. Convert image to uint8 prior to saving to suppress this warning.\n",
      "Lossy conversion from int16 to uint8. Range [0, 2]. Convert image to uint8 prior to saving to suppress this warning.\n",
      "Lossy conversion from int16 to uint8. Range [0, 2]. Convert image to uint8 prior to saving to suppress this warning.\n",
      "Lossy conversion from int16 to uint8. Range [0, 2]. Convert image to uint8 prior to saving to suppress this warning.\n",
      "Lossy conversion from int16 to uint8. Range [0, 2]. Convert image to uint8 prior to saving to suppress this warning.\n",
      "Lossy conversion from int16 to uint8. Range [0, 2]. Convert image to uint8 prior to saving to suppress this warning.\n",
      "Lossy conversion from int16 to uint8. Range [0, 2]. Convert image to uint8 prior to saving to suppress this warning.\n",
      "Lossy conversion from int16 to uint8. Range [0, 2]. Convert image to uint8 prior to saving to suppress this warning.\n",
      "Lossy conversion from int16 to uint8. Range [0, 2]. Convert image to uint8 prior to saving to suppress this warning.\n",
      "Lossy conversion from int16 to uint8. Range [0, 2]. Convert image to uint8 prior to saving to suppress this warning.\n",
      "Lossy conversion from int16 to uint8. Range [0, 2]. Convert image to uint8 prior to saving to suppress this warning.\n",
      "Lossy conversion from int16 to uint8. Range [0, 2]. Convert image to uint8 prior to saving to suppress this warning.\n",
      "Lossy conversion from int16 to uint8. Range [0, 2]. Convert image to uint8 prior to saving to suppress this warning.\n",
      "Lossy conversion from int16 to uint8. Range [0, 2]. Convert image to uint8 prior to saving to suppress this warning.\n",
      "Lossy conversion from int16 to uint8. Range [0, 2]. Convert image to uint8 prior to saving to suppress this warning.\n",
      "Lossy conversion from int16 to uint8. Range [0, 2]. Convert image to uint8 prior to saving to suppress this warning.\n",
      "Lossy conversion from int16 to uint8. Range [0, 2]. Convert image to uint8 prior to saving to suppress this warning.\n",
      "Lossy conversion from int16 to uint8. Range [0, 2]. Convert image to uint8 prior to saving to suppress this warning.\n",
      "Lossy conversion from int16 to uint8. Range [0, 2]. Convert image to uint8 prior to saving to suppress this warning.\n",
      "Lossy conversion from int16 to uint8. Range [0, 2]. Convert image to uint8 prior to saving to suppress this warning.\n",
      "Lossy conversion from int16 to uint8. Range [0, 2]. Convert image to uint8 prior to saving to suppress this warning.\n",
      "Lossy conversion from int16 to uint8. Range [0, 2]. Convert image to uint8 prior to saving to suppress this warning.\n",
      "Lossy conversion from int16 to uint8. Range [0, 2]. Convert image to uint8 prior to saving to suppress this warning.\n",
      "Lossy conversion from int16 to uint8. Range [0, 2]. Convert image to uint8 prior to saving to suppress this warning.\n",
      "Lossy conversion from int16 to uint8. Range [0, 2]. Convert image to uint8 prior to saving to suppress this warning.\n",
      "Lossy conversion from int16 to uint8. Range [0, 2]. Convert image to uint8 prior to saving to suppress this warning.\n",
      "Lossy conversion from int16 to uint8. Range [0, 2]. Convert image to uint8 prior to saving to suppress this warning.\n",
      "Lossy conversion from int16 to uint8. Range [0, 2]. Convert image to uint8 prior to saving to suppress this warning.\n",
      "Lossy conversion from int16 to uint8. Range [0, 2]. Convert image to uint8 prior to saving to suppress this warning.\n",
      "Lossy conversion from int16 to uint8. Range [0, 2]. Convert image to uint8 prior to saving to suppress this warning.\n",
      "Lossy conversion from int16 to uint8. Range [0, 2]. Convert image to uint8 prior to saving to suppress this warning.\n",
      "Lossy conversion from int16 to uint8. Range [0, 2]. Convert image to uint8 prior to saving to suppress this warning.\n",
      "Lossy conversion from int16 to uint8. Range [0, 2]. Convert image to uint8 prior to saving to suppress this warning.\n",
      "Lossy conversion from int16 to uint8. Range [0, 2]. Convert image to uint8 prior to saving to suppress this warning.\n",
      "Lossy conversion from int16 to uint8. Range [0, 2]. Convert image to uint8 prior to saving to suppress this warning.\n",
      "Lossy conversion from int16 to uint8. Range [0, 2]. Convert image to uint8 prior to saving to suppress this warning.\n",
      "Lossy conversion from int16 to uint8. Range [0, 2]. Convert image to uint8 prior to saving to suppress this warning.\n",
      "Lossy conversion from int16 to uint8. Range [0, 2]. Convert image to uint8 prior to saving to suppress this warning.\n",
      "Lossy conversion from int16 to uint8. Range [0, 2]. Convert image to uint8 prior to saving to suppress this warning.\n",
      "Lossy conversion from int16 to uint8. Range [0, 2]. Convert image to uint8 prior to saving to suppress this warning.\n"
     ]
    },
    {
     "name": "stdout",
     "output_type": "stream",
     "text": [
      "57.nrrd\n",
      "(512, 512, 100)\n"
     ]
    },
    {
     "name": "stderr",
     "output_type": "stream",
     "text": [
      "Lossy conversion from int16 to uint8. Range [0, 2]. Convert image to uint8 prior to saving to suppress this warning.\n",
      "Lossy conversion from int16 to uint8. Range [0, 2]. Convert image to uint8 prior to saving to suppress this warning.\n",
      "Lossy conversion from int16 to uint8. Range [0, 2]. Convert image to uint8 prior to saving to suppress this warning.\n",
      "Lossy conversion from int16 to uint8. Range [0, 2]. Convert image to uint8 prior to saving to suppress this warning.\n",
      "Lossy conversion from int16 to uint8. Range [0, 2]. Convert image to uint8 prior to saving to suppress this warning.\n",
      "Lossy conversion from int16 to uint8. Range [0, 2]. Convert image to uint8 prior to saving to suppress this warning.\n",
      "Lossy conversion from int16 to uint8. Range [0, 2]. Convert image to uint8 prior to saving to suppress this warning.\n",
      "Lossy conversion from int16 to uint8. Range [0, 2]. Convert image to uint8 prior to saving to suppress this warning.\n",
      "Lossy conversion from int16 to uint8. Range [0, 2]. Convert image to uint8 prior to saving to suppress this warning.\n",
      "Lossy conversion from int16 to uint8. Range [0, 2]. Convert image to uint8 prior to saving to suppress this warning.\n",
      "Lossy conversion from int16 to uint8. Range [0, 2]. Convert image to uint8 prior to saving to suppress this warning.\n",
      "Lossy conversion from int16 to uint8. Range [0, 2]. Convert image to uint8 prior to saving to suppress this warning.\n",
      "Lossy conversion from int16 to uint8. Range [0, 2]. Convert image to uint8 prior to saving to suppress this warning.\n",
      "Lossy conversion from int16 to uint8. Range [0, 2]. Convert image to uint8 prior to saving to suppress this warning.\n",
      "Lossy conversion from int16 to uint8. Range [0, 2]. Convert image to uint8 prior to saving to suppress this warning.\n",
      "Lossy conversion from int16 to uint8. Range [0, 2]. Convert image to uint8 prior to saving to suppress this warning.\n",
      "Lossy conversion from int16 to uint8. Range [0, 2]. Convert image to uint8 prior to saving to suppress this warning.\n",
      "Lossy conversion from int16 to uint8. Range [0, 2]. Convert image to uint8 prior to saving to suppress this warning.\n",
      "Lossy conversion from int16 to uint8. Range [0, 2]. Convert image to uint8 prior to saving to suppress this warning.\n",
      "Lossy conversion from int16 to uint8. Range [0, 2]. Convert image to uint8 prior to saving to suppress this warning.\n",
      "Lossy conversion from int16 to uint8. Range [0, 2]. Convert image to uint8 prior to saving to suppress this warning.\n",
      "Lossy conversion from int16 to uint8. Range [0, 2]. Convert image to uint8 prior to saving to suppress this warning.\n",
      "Lossy conversion from int16 to uint8. Range [0, 2]. Convert image to uint8 prior to saving to suppress this warning.\n",
      "Lossy conversion from int16 to uint8. Range [0, 2]. Convert image to uint8 prior to saving to suppress this warning.\n",
      "Lossy conversion from int16 to uint8. Range [0, 2]. Convert image to uint8 prior to saving to suppress this warning.\n",
      "Lossy conversion from int16 to uint8. Range [0, 2]. Convert image to uint8 prior to saving to suppress this warning.\n",
      "Lossy conversion from int16 to uint8. Range [0, 2]. Convert image to uint8 prior to saving to suppress this warning.\n",
      "Lossy conversion from int16 to uint8. Range [0, 2]. Convert image to uint8 prior to saving to suppress this warning.\n",
      "Lossy conversion from int16 to uint8. Range [0, 2]. Convert image to uint8 prior to saving to suppress this warning.\n",
      "Lossy conversion from int16 to uint8. Range [0, 2]. Convert image to uint8 prior to saving to suppress this warning.\n",
      "Lossy conversion from int16 to uint8. Range [0, 2]. Convert image to uint8 prior to saving to suppress this warning.\n",
      "Lossy conversion from int16 to uint8. Range [0, 2]. Convert image to uint8 prior to saving to suppress this warning.\n",
      "Lossy conversion from int16 to uint8. Range [0, 2]. Convert image to uint8 prior to saving to suppress this warning.\n",
      "Lossy conversion from int16 to uint8. Range [0, 2]. Convert image to uint8 prior to saving to suppress this warning.\n",
      "Lossy conversion from int16 to uint8. Range [0, 2]. Convert image to uint8 prior to saving to suppress this warning.\n",
      "Lossy conversion from int16 to uint8. Range [0, 2]. Convert image to uint8 prior to saving to suppress this warning.\n",
      "Lossy conversion from int16 to uint8. Range [0, 2]. Convert image to uint8 prior to saving to suppress this warning.\n",
      "Lossy conversion from int16 to uint8. Range [0, 2]. Convert image to uint8 prior to saving to suppress this warning.\n",
      "Lossy conversion from int16 to uint8. Range [0, 2]. Convert image to uint8 prior to saving to suppress this warning.\n",
      "Lossy conversion from int16 to uint8. Range [0, 2]. Convert image to uint8 prior to saving to suppress this warning.\n",
      "Lossy conversion from int16 to uint8. Range [0, 2]. Convert image to uint8 prior to saving to suppress this warning.\n",
      "Lossy conversion from int16 to uint8. Range [0, 2]. Convert image to uint8 prior to saving to suppress this warning.\n",
      "Lossy conversion from int16 to uint8. Range [0, 2]. Convert image to uint8 prior to saving to suppress this warning.\n"
     ]
    },
    {
     "name": "stdout",
     "output_type": "stream",
     "text": [
      "6.nrrd\n",
      "(512, 512, 89)\n"
     ]
    },
    {
     "name": "stderr",
     "output_type": "stream",
     "text": [
      "Lossy conversion from int16 to uint8. Range [0, 2]. Convert image to uint8 prior to saving to suppress this warning.\n",
      "Lossy conversion from int16 to uint8. Range [0, 2]. Convert image to uint8 prior to saving to suppress this warning.\n",
      "Lossy conversion from int16 to uint8. Range [0, 2]. Convert image to uint8 prior to saving to suppress this warning.\n",
      "Lossy conversion from int16 to uint8. Range [0, 2]. Convert image to uint8 prior to saving to suppress this warning.\n",
      "Lossy conversion from int16 to uint8. Range [0, 2]. Convert image to uint8 prior to saving to suppress this warning.\n",
      "Lossy conversion from int16 to uint8. Range [0, 2]. Convert image to uint8 prior to saving to suppress this warning.\n",
      "Lossy conversion from int16 to uint8. Range [0, 2]. Convert image to uint8 prior to saving to suppress this warning.\n",
      "Lossy conversion from int16 to uint8. Range [0, 2]. Convert image to uint8 prior to saving to suppress this warning.\n",
      "Lossy conversion from int16 to uint8. Range [0, 2]. Convert image to uint8 prior to saving to suppress this warning.\n",
      "Lossy conversion from int16 to uint8. Range [0, 2]. Convert image to uint8 prior to saving to suppress this warning.\n",
      "Lossy conversion from int16 to uint8. Range [0, 2]. Convert image to uint8 prior to saving to suppress this warning.\n",
      "Lossy conversion from int16 to uint8. Range [0, 2]. Convert image to uint8 prior to saving to suppress this warning.\n",
      "Lossy conversion from int16 to uint8. Range [0, 2]. Convert image to uint8 prior to saving to suppress this warning.\n",
      "Lossy conversion from int16 to uint8. Range [0, 2]. Convert image to uint8 prior to saving to suppress this warning.\n",
      "Lossy conversion from int16 to uint8. Range [0, 2]. Convert image to uint8 prior to saving to suppress this warning.\n",
      "Lossy conversion from int16 to uint8. Range [0, 2]. Convert image to uint8 prior to saving to suppress this warning.\n",
      "Lossy conversion from int16 to uint8. Range [0, 2]. Convert image to uint8 prior to saving to suppress this warning.\n",
      "Lossy conversion from int16 to uint8. Range [0, 2]. Convert image to uint8 prior to saving to suppress this warning.\n",
      "Lossy conversion from int16 to uint8. Range [0, 2]. Convert image to uint8 prior to saving to suppress this warning.\n",
      "Lossy conversion from int16 to uint8. Range [0, 2]. Convert image to uint8 prior to saving to suppress this warning.\n",
      "Lossy conversion from int16 to uint8. Range [0, 2]. Convert image to uint8 prior to saving to suppress this warning.\n",
      "Lossy conversion from int16 to uint8. Range [0, 2]. Convert image to uint8 prior to saving to suppress this warning.\n",
      "Lossy conversion from int16 to uint8. Range [0, 2]. Convert image to uint8 prior to saving to suppress this warning.\n",
      "Lossy conversion from int16 to uint8. Range [0, 2]. Convert image to uint8 prior to saving to suppress this warning.\n",
      "Lossy conversion from int16 to uint8. Range [0, 2]. Convert image to uint8 prior to saving to suppress this warning.\n",
      "Lossy conversion from int16 to uint8. Range [0, 2]. Convert image to uint8 prior to saving to suppress this warning.\n",
      "Lossy conversion from int16 to uint8. Range [0, 2]. Convert image to uint8 prior to saving to suppress this warning.\n",
      "Lossy conversion from int16 to uint8. Range [0, 2]. Convert image to uint8 prior to saving to suppress this warning.\n",
      "Lossy conversion from int16 to uint8. Range [0, 2]. Convert image to uint8 prior to saving to suppress this warning.\n",
      "Lossy conversion from int16 to uint8. Range [0, 2]. Convert image to uint8 prior to saving to suppress this warning.\n",
      "Lossy conversion from int16 to uint8. Range [0, 2]. Convert image to uint8 prior to saving to suppress this warning.\n",
      "Lossy conversion from int16 to uint8. Range [0, 2]. Convert image to uint8 prior to saving to suppress this warning.\n",
      "Lossy conversion from int16 to uint8. Range [0, 2]. Convert image to uint8 prior to saving to suppress this warning.\n",
      "Lossy conversion from int16 to uint8. Range [0, 2]. Convert image to uint8 prior to saving to suppress this warning.\n",
      "Lossy conversion from int16 to uint8. Range [0, 2]. Convert image to uint8 prior to saving to suppress this warning.\n",
      "Lossy conversion from int16 to uint8. Range [0, 2]. Convert image to uint8 prior to saving to suppress this warning.\n",
      "Lossy conversion from int16 to uint8. Range [0, 2]. Convert image to uint8 prior to saving to suppress this warning.\n",
      "Lossy conversion from int16 to uint8. Range [0, 2]. Convert image to uint8 prior to saving to suppress this warning.\n",
      "Lossy conversion from int16 to uint8. Range [0, 2]. Convert image to uint8 prior to saving to suppress this warning.\n",
      "Lossy conversion from int16 to uint8. Range [0, 2]. Convert image to uint8 prior to saving to suppress this warning.\n",
      "Lossy conversion from int16 to uint8. Range [0, 2]. Convert image to uint8 prior to saving to suppress this warning.\n"
     ]
    },
    {
     "name": "stdout",
     "output_type": "stream",
     "text": [
      "7.nrrd\n",
      "8.nrrd\n",
      "(512, 512, 50)\n"
     ]
    },
    {
     "name": "stderr",
     "output_type": "stream",
     "text": [
      "Lossy conversion from int16 to uint8. Range [0, 2]. Convert image to uint8 prior to saving to suppress this warning.\n",
      "Lossy conversion from int16 to uint8. Range [0, 2]. Convert image to uint8 prior to saving to suppress this warning.\n",
      "Lossy conversion from int16 to uint8. Range [0, 2]. Convert image to uint8 prior to saving to suppress this warning.\n",
      "Lossy conversion from int16 to uint8. Range [0, 2]. Convert image to uint8 prior to saving to suppress this warning.\n",
      "Lossy conversion from int16 to uint8. Range [0, 2]. Convert image to uint8 prior to saving to suppress this warning.\n",
      "Lossy conversion from int16 to uint8. Range [0, 2]. Convert image to uint8 prior to saving to suppress this warning.\n",
      "Lossy conversion from int16 to uint8. Range [0, 2]. Convert image to uint8 prior to saving to suppress this warning.\n",
      "Lossy conversion from int16 to uint8. Range [0, 2]. Convert image to uint8 prior to saving to suppress this warning.\n",
      "Lossy conversion from int16 to uint8. Range [0, 2]. Convert image to uint8 prior to saving to suppress this warning.\n",
      "Lossy conversion from int16 to uint8. Range [0, 2]. Convert image to uint8 prior to saving to suppress this warning.\n",
      "Lossy conversion from int16 to uint8. Range [0, 2]. Convert image to uint8 prior to saving to suppress this warning.\n",
      "Lossy conversion from int16 to uint8. Range [0, 2]. Convert image to uint8 prior to saving to suppress this warning.\n",
      "Lossy conversion from int16 to uint8. Range [0, 2]. Convert image to uint8 prior to saving to suppress this warning.\n",
      "Lossy conversion from int16 to uint8. Range [0, 2]. Convert image to uint8 prior to saving to suppress this warning.\n",
      "Lossy conversion from int16 to uint8. Range [0, 2]. Convert image to uint8 prior to saving to suppress this warning.\n",
      "Lossy conversion from int16 to uint8. Range [0, 2]. Convert image to uint8 prior to saving to suppress this warning.\n",
      "Lossy conversion from int16 to uint8. Range [0, 2]. Convert image to uint8 prior to saving to suppress this warning.\n"
     ]
    }
   ],
   "source": [
    "\n",
    "# 读取.nrrd 文件\n",
    "cropped_dir = '../segmentation/cropped'\n",
    "labeled_dir = '../segmentation/label'\n",
    "out_cropped_dir = '../data/images'\n",
    "out_labeled_dir = '../data/masks'\n",
    "\n",
    "cropped_imgs = os.listdir(cropped_dir)\n",
    "labeled_imgs = os.listdir(labeled_dir)\n",
    "\n",
    "print('crop')\n",
    "for item in cropped_imgs:\n",
    "    save_to_img(cropped_dir,out_cropped_dir,item, 'gray')\n",
    "\n",
    "print('label')\n",
    "for item in labeled_imgs:\n",
    "    save_to_img(labeled_dir,out_labeled_dir, item,'inferno')"
   ]
  },
  {
   "cell_type": "code",
   "execution_count": null,
   "id": "f0ff3cf5",
   "metadata": {},
   "outputs": [],
   "source": []
  }
 ],
 "metadata": {
  "kernelspec": {
   "display_name": "Python 3 (ipykernel)",
   "language": "python",
   "name": "python3"
  },
  "language_info": {
   "codemirror_mode": {
    "name": "ipython",
    "version": 3
   },
   "file_extension": ".py",
   "mimetype": "text/x-python",
   "name": "python",
   "nbconvert_exporter": "python",
   "pygments_lexer": "ipython3",
   "version": "3.10.9"
  }
 },
 "nbformat": 4,
 "nbformat_minor": 5
}
